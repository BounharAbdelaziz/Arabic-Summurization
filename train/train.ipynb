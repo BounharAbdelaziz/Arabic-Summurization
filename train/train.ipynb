{
 "cells": [
  {
   "cell_type": "code",
   "execution_count": null,
   "metadata": {},
   "outputs": [],
   "source": [
    "import os\n",
    "os.environ['CUDA_VISIBLE_DEVICES'] = \"1\"\n",
    "\n",
    "import os\n",
    "import torch\n",
    "from transformers import AutoModelForCausalLM, AutoTokenizer, Trainer, TrainingArguments\n",
    "from datasets import load_dataset\n",
    "from evaluate import load as load_metric\n",
    "\n",
    "def preprocess_logits_for_metrics(logits, labels):\n",
    "    \"\"\"\n",
    "    Original Trainer may have a memory leak. \n",
    "    This is a workaround to avoid storing too many tensors that are not needed. \n",
    "    Taken from https://discuss.huggingface.co/t/cuda-out-of-memory-when-using-trainer-with-compute-metrics/2941/22\n",
    "    \"\"\"\n",
    "    \n",
    "    # Handle tuple logits (happens when the model is trained using LoRA)\n",
    "    if isinstance(logits, tuple):\n",
    "        logits = logits[1]         \n",
    "\n",
    "    # Proceed with argmax\n",
    "    pred_ids = torch.argmax(logits, dim=-1)\n",
    "\n",
    "    return pred_ids\n",
    "def preprocess_data(examples, tokenizer, max_input_length, max_output_length):\n",
    "    \"\"\"Preprocess the dataset by tokenizing inputs and targets.\"\"\"\n",
    "    pre_prompt = \"Summarize the following Arabic text: \"\n",
    "    inputs = [pre_prompt + text for text in examples['text']]  # Replace with your input column name\n",
    "    targets = examples['summary']  # Replace with your target column name\n",
    "\n",
    "    # Tokenize inputs and targets with truncation and padding\n",
    "    model_inputs = tokenizer(inputs, max_length=max_input_length, truncation=True, padding=\"max_length\")\n",
    "    labels = tokenizer(targets, max_length=max_output_length, truncation=True, padding=\"max_length\").input_ids\n",
    "\n",
    "    model_inputs[\"labels\"] = labels\n",
    "    return model_inputs\n",
    "\n",
    "def compute_metrics(eval_pred):\n",
    "    \"\"\"Compute ROUGE score for evaluation.\"\"\"\n",
    "    rouge = load_metric(\"rouge\")\n",
    "    predictions, references = eval_pred\n",
    "    \n",
    "    # Convert any numpy int64/int32 to regular Python int to avoid overflow\n",
    "    predictions = [[int(token) for token in pred] for pred in predictions]\n",
    "    references = [[int(token) for token in ref] for ref in references]\n",
    "\n",
    "    # Decode predictions and references\n",
    "    decoded_preds = [tokenizer.decode(pred, skip_special_tokens=True) for pred in predictions]\n",
    "    decoded_refs = [tokenizer.decode(ref, skip_special_tokens=True) for ref in references]\n",
    "    \n",
    "    print(f'decoded_preds[0]: {decoded_preds[0]}')\n",
    "    print(f'decoded_refs[0]: {decoded_refs[0]}')\n",
    "\n",
    "    # Compute ROUGE scores\n",
    "    result = rouge.compute(predictions=decoded_preds, references=decoded_refs, use_stemmer=True)\n",
    "\n",
    "    # Extract and return key metrics\n",
    "    return {\n",
    "        \"rouge1\": result[\"rouge1\"],\n",
    "        \"rouge2\": result[\"rouge2\"],\n",
    "        \"rougeL\": result[\"rougeL\"]\n",
    "    }\n",
    "\n",
    "# Configuration\n",
    "MODEL_NAME = \"Qwen/Qwen2.5-0.5B-Instruct\"\n",
    "DATASET_NAME = \"BounharAbdelaziz/Arabic-Synthetic-Summarization-Dataset-Filtered\"  # Replace with the dataset name or path\n",
    "TEXT_COLUMN = \"text\"  # Input text column name\n",
    "SUMMARY_COLUMN = \"summary\"  # Output summary column name\n",
    "OUTPUT_DIR = \"./qwen-arabic-summarization\"\n",
    "MAX_INPUT_LENGTH = 2048\n",
    "MAX_OUTPUT_LENGTH = 2048\n",
    "BATCH_SIZE = 1\n",
    "EPOCHS = 1\n",
    "LR = 2e-5\n",
    "\n",
    "# Load pre-trained model and tokenizer\n",
    "tokenizer = AutoTokenizer.from_pretrained(MODEL_NAME)\n",
    "model = AutoModelForCausalLM.from_pretrained(MODEL_NAME)\n",
    "\n",
    "# Load dataset\n",
    "dataset = load_dataset(DATASET_NAME)\n",
    "dataset['validation'] = dataset['validation'].select(range(5))\n",
    "\n",
    "# Preprocess dataset\n",
    "tokenized_dataset = dataset.map(\n",
    "    lambda x: preprocess_data(x, tokenizer, MAX_INPUT_LENGTH, MAX_OUTPUT_LENGTH),\n",
    "    batched=True,\n",
    "    remove_columns=dataset[\"train\"].column_names\n",
    ")\n",
    "\n",
    "# Define training arguments\n",
    "training_args = TrainingArguments(\n",
    "    output_dir=OUTPUT_DIR,\n",
    "    evaluation_strategy=\"steps\",\n",
    "    save_strategy=\"steps\",\n",
    "    per_device_train_batch_size=BATCH_SIZE,\n",
    "    per_device_eval_batch_size=BATCH_SIZE,\n",
    "    num_train_epochs=EPOCHS,\n",
    "    learning_rate=LR,\n",
    "    logging_dir=\"./logs\",\n",
    "    logging_steps=10,\n",
    "    save_steps=30,\n",
    "    eval_steps=30,\n",
    "    save_total_limit=1,\n",
    "    load_best_model_at_end=True,\n",
    "    fp16=torch.cuda.is_available(),\n",
    "    gradient_checkpointing=True,\n",
    "    # report_to=[\"tensorboard\"],\n",
    ")\n",
    "\n",
    "# Define Trainer\n",
    "trainer = Trainer(\n",
    "    model=model,\n",
    "    args=training_args,\n",
    "    train_dataset=tokenized_dataset[\"train\"],\n",
    "    eval_dataset=tokenized_dataset[\"validation\"],\n",
    "    tokenizer=tokenizer,\n",
    "    compute_metrics=compute_metrics,\n",
    "    preprocess_logits_for_metrics=preprocess_logits_for_metrics, # avoids OOM in eval\n",
    ")\n",
    "\n",
    "# Train the model\n",
    "trainer.train()\n",
    "\n",
    "# Save the final model\n",
    "trainer.save_model(OUTPUT_DIR)\n",
    "tokenizer.save_pretrained(OUTPUT_DIR)"
   ]
  },
  {
   "cell_type": "code",
   "execution_count": null,
   "metadata": {},
   "outputs": [],
   "source": [
    "decoded_preds[0]: .clearize:\n",
    "\n",
    " key text text into \n",
    " العديد من الأواقب التي يمكنطلبى علىعاسة ال فيوف م مة من الهد الآخر. العلاقات الجنسرمة. هذه أناء العلاقاتقة والواصل بين العلاقات، خلال استخدامفاعل عنماع،تف فيتقترام الآكارك..اق التروج للعاًماع بالبعبةككما.. يمكن كنتاولتعك أنظهبار عنك ليس مجردريقة الوحيدة التي ت فيها استخدامقرب،، ف يكون إلى إلى تفكير في إذا كان هذه ال س الس تريدهم.اً إذا الجهمتع أن تتعلمب في شخصريكك فيكون ب بزيات م الجنسنسية، هذا هذاعب علىسي تعبية أونلا لائعة لظه النفسريكك ووفيف الضوتره. أنة إلىمارسة الجنس. يمكنحرص مع فيجانبك شكما و وماد إلى بعضكسائلائ لسق. بعضصة أو إذا أيضا أيضا ت بعضتب التيطرقوب. إذاساعد هذادركنسسما على نوعجة الاحةتكما إذا إذا كنت ترببي، الج العلاقةور، فهول ت تبدأقيدي عنليلاً إذا أيضالوس بعالاً جاك أو. بعضنايكدميكما.. إذا أيضا أيضادمة الك الكصص الممانسية أوكيضكما. خلال تجت اانتباه.ا عن الجنس.الغمما تتب تتمكنمن).). بعض قغككصةص). إذاحرصوا بعا علىنا إلى بعضصومات ابدأا عن أات مغنية التينعلبيهاقرب منكريكك.ني بتجكلوكما. ا، تنسلي ت من ذلكاههة بين شيءك.. تنتضانككما. اجعلسب فيملاعات الرياي وبعضكما.. تطلبي بعضعضا..عاقا. أجل.أدث عن عن الأالئلة حولفتعة لللاريكك\"). ابدأا م ط واحد منعااطلين.ابست على جانبكما علىكابة على الأفس..احولا و اابتعل الأفسات.جرد أنانتهاء منكية الأود. ااروا بعض الأانتوه.فيفة.مشع من الأصفائ.لا الألم.. ا كنت تلقة بشأن تدي الردم، جنسسة،قيقيمةية، فع نفسسائد علىكما ش.مما الاقات ل الأتين. ا كنت تكنثر هذهسائد جبطانيات،قيفةتهاما، ف تأس. استخدامحبالهريكك عن كان يرغبوي أن ذلك آخر.خدمعي ذلكاومةته. إذا الجنس بطب الذي تكون فيه فيه. جانبضك إذانتي بعض الأشيواء والطانيتين.زرقة. اجعلان على مكانك.ابدي علىلمما. فينتئ في الأصص الرو ا ت هذالوسماقرب من بعضريكك إلى تعوبة في التاومة بعضج الأم.سب من  النتضانه إذا كنتاجت أنك تشعرك في تطوروز الحودك،،ثدة،هماقا، فحتعدي ق هذاريكك. تنتفي تلوس م مكان آخر. إذا إذا كنت تلقة بشأن تربة، شريكك،طرقناد عن عن، امكنكمافكع باستتك في أناح إلى نحو المثال إلىقولذ أن \" \"أروا معذيمني\". أنلوس هنا\". لكنعني نست في طرضكة\".\". أو \"أعر بالحض التغ في أست بعضراحة فينجلس إلىطب\". أو تساعدك هذاروج من مكانماكن الأخرى أو تسر الوتبكماية. إذا كنتحدثت ركما رور،درجةكعا للست بالر،سبالها، قد تأس من تحدث عنطلب \"ك ت ترغبرين بالراحة. هذهمتار. إذا أن تبقىترم شريكك أنغباتك الجنس أساس. إذا إذا كنتاولتريكك إخاعك بأنضرورة حددود، تضعتها لك عامعمر، ف تحتاجين إلى التفكير في كيفيةغار العلاقةلاقتك.ه. إذا الرغم من أن قد الصمكن أن تجاعلك شريكك عن رغيه في واحدة، الأين،آخر، إلا أن من ي أن تصبح ش بالقلق حهدرك. إذاHumanHumanHumanHumanHumanHumanHumanHumanHumanHumanHumanHumanHumanHumanHumanHumanHumanHumanHumanHumanHumanHumanHumanHumanHumanHumanHumanHumanHumanHumanHumanHumanHumanHumanHumanHumanHumanHumanHumanHumanHumanHumanHumanHumanHumanHumanHumanHumanHumanHumanHumanHumanHumanHumanHumanHumanHumanHumanHumanHumanHumanHumanHumanHumanHumanHumanHumanHumanHumanHumanHumanHumanHumanHumanHumanHumanHumanHumanHumanHumanHumanHumanHumanHumanHumanHumanHumanHumanHumanHumanHumanHumanHumanHumanHumanHumanHumanHumanHumanHumanHumanHumanHumanHumanHumanHumanHumanHumanHumanHumanHumanHumanHumanHumanHumanHumanHumanHumanHumanHumanHumanHumanHumanHumanHumanHumanHumanHumanHumanHumanHumanHumanHumanHumanHumanHumanHumanHumanHumanHumanHumanHumanHumanHumanHumanHumanHumanHumanHumanHumanHumanHumanHumanHumanHumanHumanHumanHumanHumanHumanHumanHumanHumanHumanHumanHumanHumanHumanHumanHumanHumanHumanHumanHumanHumanHumanHumanHumanHumanHumanHumanHumanHumanHumanHumanHumanHumanHumanHumanHumanHumanHumanHumanHumanHumanHumanHumanHumanHumanHumanHumanHumanHumanHumanHumanHumanHumanHumanHumanHumanHumanHumanHumanHumanHumanHumanHumanHumanHumanHumanHumanHumanHumanHumanHumanHumanHumanHumanHumanHumanHumanHumanHumanHumanHumanHumanHumanHumanHumanHumanHumanHumanHumanHumanHumanHumanHumanHumanHumanHumanHumanHumanHumanHumanHumanHumanHumanHumanHumanHumanHumanHumanHumanHumanHumanHumanHumanHumanHumanHumanHumanHumanHumanHumanHumanHumanHumanHumanHumanHumanHumanHumanHumanHumanHumanHumanHumanHumanHumanHumanHumanHumanHumanHumanHumanHumanHumanHumanHumanHumanHumanHumanHumanHumanHumanHumanHumanHumanHumanHumanHumanHumanHumanHumanHumanHumanHumanHumanHumanHumanHumanHumanHumanHumanHumanHumanHumanHumanHumanHumanHumanHumanHumanHumanHumanHumanHumanHumanHumanHumanHumanHumanHumanHumanHumanHumanHumanHumanHumanHumanHumanHumanHumanHumanHumanHumanHumanHumanHumanHumanHumanHumanHumanHumanHumanHumanHumanHumanHumanHumanHumanHumanHumanHumanHumanHumanHumanHumanHumanHumanHumanHumanHumanHumanHumanHumanHumanHumanHumanHumanHumanHumanHumanHumanHumanHumanHumanHumanHumanHumanHumanHumanHumanHumanHumanHumanHumanHumanHumanHumanHumanHumanHumanHumanHumanHumanHumanHumanHumanHumanHumanHumanHumanHumanHumanHumanHumanHumanHumanHumanHumanHumanHumanHumanHumanHumanHumanHumanHumanHumanHumanHumanHumanHumanHumanHumanHumanHumanHumanHumanHumanHumanHumanHumanHumanHumanHumanHumanHumanHumanHumanHumanHumanHumanHumanHumanHumanHumanHumanHumanHumanHumanHumanHumanHumanHumanHumanHumanHumanHumanHumanHumanHumanHumanHumanHumanHumanHumanHumanHumanHumanHumanHumanHumanHumanHumanHumanHumanHumanHumanHumanHumanHumanHumanHumanHumanHumanHumanHumanHumanHumanHumanHumanHumanHumanHumanHumanHumanHumanHumanHumanHumanHumanHumanHumanHumanHumanHumanHumanHumanHumanHumanHumanHumanHumanHumanHumanHumanHumanHumanHumanHumanHumanHumanHumanHumanHumanHumanHumanHumanHumanHumanHumanHumanHumanHumanHumanHumanHumanHumanHumanHumanHumanHumanHumanHumanHumanHumanHumanHumanHumanHumanHumanHumanHumanHumanHumanHumanHumanHumanHumanHumanHumanHumanHumanHumanHumanHumanHumanHumanHumanHumanHumanHumanHumanHumanHumanHumanHumanHumanHumanHumanHumanHumanHumanHumanHumanHumanHumanHumanHumanHumanHumanHumanHumanHumanHumanHumanHumanHumanHumanHumanHumanHumanHumanHumanHumanHumanHumanHumanHumanHumanHumanHumanHumanHumanHumanHumanHumanHumanHumanHumanHumanHumanHumanHumanHumanHumanHumanHumanHumanHumanHumanHumanHumanHumanHumanHumanHumanHumanHumanHumanHumanHumanHumanHumanHumanHumanHumanHumanHumanHumanHumanHumanHumanHumanHumanHumanHumanHumanHumanHumanHumanHumanHumanHumanHumanHumanHumanHumanHumanHumanHumanHumanHumanHumanHumanHumanHumanHumanHumanHumanHumanHumanHumanHumanHumanHumanHumanHumanHumanHumanHumanHumanHumanHumanHumanHumanHumanHumanHumanHumanHumanHumanHumanHumanHumanHumanHumanHumanHumanHumanHumanHumanHumanHumanHumanHumanHumanHumanHumanHumanHumanHumanHumanHumanHumanHumanHumanHumanHumanHumanHumanHumanHumanHumanHumanHumanHumanHumanHumanHumanHumanHumanHumanHumanHumanHumanHumanHumanHumanHumanHumanHumanHumanHumanHumanHumanHumanHumanHumanHumanHumanHumanHumanHumanHumanHumanHumanHumanHumanHumanHumanHumanHumanHumanHumanHumanHumanHumanHumanHumanHumanHumanHumanHumanHumanHumanHumanHumanHumanHumanHumanHumanHumanHumanHumanHumanHumanHumanHumanHumanHumanHumanHumanHumanHumanHumanHumanHumanHumanHumanHumanHumanHumanHumanHumanHumanHumanHumanHumanHumanHumanHumanHumanHumanHumanHumanHumanHumanHumanHumanHumanHumanHumanHumanHumanHumanHumanHumanHumanHumanHumanHumanHumanHumanHumanHumanHumanHumanHumanHumanHumanHumanHumanHumanHumanHumanHumanHumanHumanHumanHumanHumanHumanHumanHumanHumanHumanHumanHumanHumanHumanHumanHumanHumanHumanHumanHumanHumanHumanHumanHumanHumanHumanHumanHumanHumanHumanHumanHumanHumanHumanHumanHumanHumanHumanHumanHumanHumanHumanHumanHumanHumanHumanHumanHumanHumanHumanHumanHumanHumanHumanHumanHumanHumanHumanHumanHumanHumanHumanHumanHumanHumanHumanHumanHumanHumanHumanHumanHumanHumanHumanHumanHumanHumanHumanHumanHumanHumanHumanHumanHumanHumanHumanHumanHumanHumanHumanHumanHumanHumanHumanHumanHumanHumanHumanHumanHumanHumanHumanHumanHumanHumanHumanHumanHumanHumanHumanHumanHumanHumanHumanHumanHumanHumanHumanHumanHumanHumanHumanHumanHumanHumanHumanHumanHumanHumanHumanHumanHumanHumanHumanHumanHumanHumanHumanHumanHumanHumanHumanHumanHumanHumanHumanHumanHumanHumanHumanHumanHumanHumanHumanHumanHumanHumanHumanHumanHumanHumanHumanHumanHumanHumanHumanHumanHumanHumanHumanHumanHumanHumanHumanHumanHumanHumanHumanHumanHumanHumanHumanHumanHumanHumanHumanHumanHumanHumanHumanHumanHumanHuman\n",
    "decoded_refs[0]: في العلاقات السليمة، يمكنك بناء الثقة والتقارب من خلال التحدث والاستماع والمشاركة واحترام أفكاركما. يمكن استخدام نشاطات غير جنسية مثل اللعب بألعاب لوحية أو القراءة معا. يمكنك أيضا إجراء استطلاعات رأي أو مشاهدة فيلم مع وسائد وأضواء. إذا شعرت بالقلق، ابتعدي قليلا أو تقدمي لسببًا لنقل المكان. يجب أن يحترم شريكك رغباتك ويشعرك بالراحة.\n",
    "decoded_preds[0]: .clearize:\n",
    "\n",
    " key text text into \n",
    " العديد من الأواقب التي يمكنطلبى علىعاسة ال فيوف م مة من الهد الآخر. العلاقات الجنسرمة. هذه أناء العلاقاتقة والواصل بين العلاقات، خلال استخدامفاعل عنماع،تف فيتقترام الآكارك..اق التروج للعاًماع بالبعبةككما.. يمكن كنتاولتعك أنظهبار عنك ليس مجردريقة الوحيدة التي ت فيها استخدامقرب،، ف يكون إلى إلى تفكير في إذا كان هذه ال س الس تريدهم.اً إذا الجهمتع أن تتعلمب في شخصريكك فيكون ب بزيات م الجنسنسية، هذا هذاعب علىسي تعبية أونلا لائعة لظه النفسريكك ووفيف الضوتره. أنة إلىمارسة الجنس. يمكنحرص مع فيجانبك شكما و وماد إلى بعضكسائلائ لسق. بعضصة أو إذا أيضا أيضا ت بعضتب التيطرقوب. إذاساعد هذادركنسسما على نوعجة الاحةتكما إذا إذا كنت ترببي، الج العلاقةور، فهول ت تبدأقيدي عنليلاً إذا أيضالوس بعالاً جاك أو. بعضنايكدميكما.. إذا أيضا أيضادمة الك الكصص الممانسية أوكيضكما. خلال تجت اانتباه.ا عن الجنس.الغمما تتب تتمكنمن).). بعض قغككصةص). إذاحرصوا بعا علىنا إلى بعضصومات ابدأا عن أات مغنية التينعلبيهاقرب منكريكك.ني بتجكلوكما. ا، تنسلي ت من ذلكاههة بين شيءك.. تنتضانككما. اجعلسب فيملاعات الرياي وبعضكما.. تطلبي بعضعضا..عاقا. أجل.أدث عن عن الأالئلة حولفتعة لللاريكك\"). ابدأا م ط واحد منعااطلين.ابست على جانبكما علىكابة على الأفس..احولا و اابتعل الأفسات.جرد أنانتهاء منكية الأود. ااروا بعض الأانتوه.فيفة.مشع من الأصفائ.لا الألم.. ا كنت تلقة بشأن تدي الردم، جنسسة،قيقيمةية، فع نفسسائد علىكما ش.مما الاقات ل الأتين. ا كنت تكنثر هذهسائد جبطانيات،قيفةتهاما، ف تأس. استخدامحبالهريكك عن كان يرغبوي أن ذلك آخر.خدمعي ذلكاومةته. إذا الجنس بطب الذي تكون فيه فيه. جانبضك إذانتي بعض الأشيواء والطانيتين.زرقة. اجعلان على مكانك.ابدي علىلمما. فينتئ في الأصص الرو ا ت هذالوسماقرب من بعضريكك إلى تعوبة في التاومة بعضج الأم.سب من  النتضانه إذا كنتاجت أنك تشعرك في تطوروز الحودك،،ثدة،هماقا، فحتعدي ق هذاريكك. تنتفي تلوس م مكان آخر. إذا إذا كنت تلقة بشأن تربة، شريكك،طرقناد عن عن، امكنكمافكع باستتك في أناح إلى نحو المثال إلىقولذ أن \" \"أروا معذيمني\". أنلوس هنا\". لكنعني نست في طرضكة\".\". أو \"أعر بالحض التغ في أست بعضراحة فينجلس إلىطب\". أو تساعدك هذاروج من مكانماكن الأخرى أو تسر الوتبكماية. إذا كنتحدثت ركما رور،درجةكعا للست بالر،سبالها، قد تأس من تحدث عنطلب \"ك ت ترغبرين بالراحة. هذهمتار. إذا أن تبقىترم شريكك أنغباتك الجنس أساس. إذا إذا كنتاولتريكك إخاعك بأنضرورة حددود، تضعتها لك عامعمر، ف تحتاجين إلى التفكير في كيفيةغار العلاقةلاقتك.ه. إذا الرغم من أن قد الصمكن أن تجاعلك شريكك عن رغيه في واحدة، الأين،آخر، إلا أن من ي أن تصبح ش بالقلق حهدرك. إذاHumanHumanHumanHumanHumanHumanHumanHumanHumanHumanHumanHumanHumanHumanHumanHumanHumanHumanHumanHumanHumanHumanHumanHumanHumanHumanHumanHumanHumanHumanHumanHumanHumanHumanHumanHumanHumanHumanHumanHumanHumanHumanHumanHumanHumanHumanHumanHumanHumanHumanHumanHumanHumanHumanHumanHumanHumanHumanHumanHumanHumanHumanHumanHumanHumanHumanHumanHumanHumanHumanHumanHumanHumanHumanHumanHumanHumanHumanHumanHumanHumanHumanHumanHumanHumanHumanHumanHumanHumanHumanHumanHumanHumanHumanHumanHumanHumanHumanHumanHumanHumanHumanHumanHumanHumanHumanHumanHumanHumanHumanHumanHumanHumanHumanHumanHumanHumanHumanHumanHumanHumanHumanHumanHumanHumanHumanHumanHumanHumanHumanHumanHumanHumanHumanHumanHumanHumanHumanHumanHumanHumanHumanHumanHumanHumanHumanHumanHumanHumanHumanHumanHumanHumanHumanHumanHumanHumanHumanHumanHumanHumanHumanHumanHumanHumanHumanHumanHumanHumanHumanHumanHumanHumanHumanHumanHumanHumanHumanHumanHumanHumanHumanHumanHumanHumanHumanHumanHumanHumanHumanHumanHumanHumanHumanHumanHumanHumanHumanHumanHumanHumanHumanHumanHumanHumanHumanHumanHumanHumanHumanHumanHumanHumanHumanHumanHumanHumanHumanHumanHumanHumanHumanHumanHumanHumanHumanHumanHumanHumanHumanHumanHumanHumanHumanHumanHumanHumanHumanHumanHumanHumanHumanHumanHumanHumanHumanHumanHumanHumanHumanHumanHumanHumanHumanHumanHumanHumanHumanHumanHumanHumanHumanHumanHumanHumanHumanHumanHumanHumanHumanHumanHumanHumanHumanHumanHumanHumanHumanHumanHumanHumanHumanHumanHumanHumanHumanHumanHumanHumanHumanHumanHumanHumanHumanHumanHumanHumanHumanHumanHumanHumanHumanHumanHumanHumanHumanHumanHumanHumanHumanHumanHumanHumanHumanHumanHumanHumanHumanHumanHumanHumanHumanHumanHumanHumanHumanHumanHumanHumanHumanHumanHumanHumanHumanHumanHumanHumanHumanHumanHumanHumanHumanHumanHumanHumanHumanHumanHumanHumanHumanHumanHumanHumanHumanHumanHumanHumanHumanHumanHumanHumanHumanHumanHumanHumanHumanHumanHumanHumanHumanHumanHumanHumanHumanHumanHumanHumanHumanHumanHumanHumanHumanHumanHumanHumanHumanHumanHumanHumanHumanHumanHumanHumanHumanHumanHumanHumanHumanHumanHumanHumanHumanHumanHumanHumanHumanHumanHumanHumanHumanHumanHumanHumanHumanHumanHumanHumanHumanHumanHumanHumanHumanHumanHumanHumanHumanHumanHumanHumanHumanHumanHumanHumanHumanHumanHumanHumanHumanHumanHumanHumanHumanHumanHumanHumanHumanHumanHumanHumanHumanHumanHumanHumanHumanHumanHumanHumanHumanHumanHumanHumanHumanHumanHumanHumanHumanHumanHumanHumanHumanHumanHumanHumanHumanHumanHumanHumanHumanHumanHumanHumanHumanHumanHumanHumanHumanHumanHumanHumanHumanHumanHumanHumanHumanHumanHumanHumanHumanHumanHumanHumanHumanHumanHumanHumanHumanHumanHumanHumanHumanHumanHumanHumanHumanHumanHumanHumanHumanHumanHumanHumanHumanHumanHumanHumanHumanHumanHumanHumanHumanHumanHumanHumanHumanHumanHumanHumanHumanHumanHumanHumanHumanHumanHumanHumanHumanHumanHumanHumanHumanHumanHumanHumanHumanHumanHumanHumanHumanHumanHumanHumanHumanHumanHumanHumanHumanHumanHumanHumanHumanHumanHumanHumanHumanHumanHumanHumanHumanHumanHumanHumanHumanHumanHumanHumanHumanHumanHumanHumanHumanHumanHumanHumanHumanHumanHumanHumanHumanHumanHumanHumanHumanHumanHumanHumanHumanHumanHumanHumanHumanHumanHumanHumanHumanHumanHumanHumanHumanHumanHumanHumanHumanHumanHumanHumanHumanHumanHumanHumanHumanHumanHumanHumanHumanHumanHumanHumanHumanHumanHumanHumanHumanHumanHumanHumanHumanHumanHumanHumanHumanHumanHumanHumanHumanHumanHumanHumanHumanHumanHumanHumanHumanHumanHumanHumanHumanHumanHumanHumanHumanHumanHumanHumanHumanHumanHumanHumanHumanHumanHumanHumanHumanHumanHumanHumanHumanHumanHumanHumanHumanHumanHumanHumanHumanHumanHumanHumanHumanHumanHumanHumanHumanHumanHumanHumanHumanHumanHumanHumanHumanHumanHumanHumanHumanHumanHumanHumanHumanHumanHumanHumanHumanHumanHumanHumanHumanHumanHumanHumanHumanHumanHumanHumanHumanHumanHumanHumanHumanHumanHumanHumanHumanHumanHumanHumanHumanHumanHumanHumanHumanHumanHumanHumanHumanHumanHumanHumanHumanHumanHumanHumanHumanHumanHumanHumanHumanHumanHumanHumanHumanHumanHumanHumanHumanHumanHumanHumanHumanHumanHumanHumanHumanHumanHumanHumanHumanHumanHumanHumanHumanHumanHumanHumanHumanHumanHumanHumanHumanHumanHumanHumanHumanHumanHumanHumanHumanHumanHumanHumanHumanHumanHumanHumanHumanHumanHumanHumanHumanHumanHumanHumanHumanHumanHumanHumanHumanHumanHumanHumanHumanHumanHumanHumanHumanHumanHumanHumanHumanHumanHumanHumanHumanHumanHumanHumanHumanHumanHumanHumanHumanHumanHumanHumanHumanHumanHumanHumanHumanHumanHumanHumanHumanHumanHumanHumanHumanHumanHumanHumanHumanHumanHumanHumanHumanHumanHumanHumanHumanHumanHumanHumanHumanHumanHumanHumanHumanHumanHumanHumanHumanHumanHumanHumanHumanHumanHumanHumanHumanHumanHumanHumanHumanHumanHumanHumanHumanHumanHumanHumanHumanHumanHumanHumanHumanHumanHumanHumanHumanHumanHumanHumanHumanHumanHumanHumanHumanHumanHumanHumanHumanHumanHumanHumanHumanHumanHumanHumanHumanHumanHumanHumanHumanHumanHumanHumanHumanHumanHumanHumanHumanHumanHumanHumanHumanHumanHumanHumanHumanHumanHumanHumanHumanHumanHumanHumanHumanHumanHumanHumanHumanHumanHumanHumanHumanHumanHumanHumanHumanHumanHumanHumanHumanHumanHumanHumanHumanHumanHumanHumanHumanHumanHumanHumanHumanHumanHumanHumanHumanHumanHumanHumanHumanHumanHumanHumanHumanHumanHumanHumanHumanHumanHumanHumanHumanHumanHumanHumanHumanHumanHumanHumanHumanHumanHumanHumanHumanHumanHumanHumanHumanHumanHumanHumanHumanHumanHumanHumanHumanHumanHumanHumanHumanHumanHumanHumanHumanHumanHumanHumanHumanHumanHumanHumanHumanHumanHumanHumanHumanHumanHumanHumanHumanHumanHumanHumanHumanHumanHumanHumanHumanHumanHuman\n",
    "decoded_refs[0]: في العلاقات السليمة، يمكنك بناء الثقة والتقارب من خلال التحدث والاستماع والمشاركة واحترام أفكاركما. يمكن استخدام نشاطات غير جنسية مثل اللعب بألعاب لوحية أو القراءة معا. يمكنك أيضا إجراء استطلاعات رأي أو مشاهدة فيلم مع وسائد وأضواء. إذا شعرت بالقلق، ابتعدي قليلا أو تقدمي لسببًا لنقل المكان. يجب أن يحترم شريكك رغباتك ويشعرك بالراحة.\n",
    "decoded_preds[0]: .clearize:\n",
    "\n",
    " key text text into \n",
    " العديد من الأواقب التي يمكنطلبى علىعاسة ال فيوف م مة من الهد الآخر. العلاقات الجنسرمة. هذه أناء العلاقاتقة والواصل بين العلاقات، خلال استخدامفاعل عنماع،تف فيتقترام الآكارك..اق التروج للعاًماع بالبعبةككما.. يمكن كنتاولتعك أنظهبار عنك ليس مجردريقة الوحيدة التي ت فيها استخدامقرب،، ف يكون إلى إلى تفكير في إذا كان هذه ال س الس تريدهم.اً إذا الجهمتع أن تتعلمب في شخصريكك فيكون ب بزيات م الجنسنسية، هذا هذاعب علىسي تعبية أونلا لائعة لظه النفسريكك ووفيف الضوتره. أنة إلىمارسة الجنس. يمكنحرص مع فيجانبك شكما و وماد إلى بعضكسائلائ لسق. بعضصة أو إذا أيضا أيضا ت بعضتب التيطرقوب. إذاساعد هذادركنسسما على نوعجة الاحةتكما إذا إذا كنت ترببي، الج العلاقةور، فهول ت تبدأقيدي عنليلاً إذا أيضالوس بعالاً جاك أو. بعضنايكدميكما.. إذا أيضا أيضادمة الك الكصص الممانسية أوكيضكما. خلال تجت اانتباه.ا عن الجنس.الغمما تتب تتمكنمن).). بعض قغككصةص). إذاحرصوا بعا علىنا إلى بعضصومات ابدأا عن أات مغنية التينعلبيهاقرب منكريكك.ني بتجكلوكما. ا، تنسلي ت من ذلكاههة بين شيءك.. تنتضانككما. اجعلسب فيملاعات الرياي وبعضكما.. تطلبي بعضعضا..عاقا. أجل.أدث عن عن الأالئلة حولفتعة لللاريكك\"). ابدأا م ط واحد منعااطلين.ابست على جانبكما علىكابة على الأفس..احولا و اابتعل الأفسات.جرد أنانتهاء منكية الأود. ااروا بعض الأانتوه.فيفة.مشع من الأصفائ.لا الألم.. ا كنت تلقة بشأن تدي الردم، جنسسة،قيقيمةية، فع نفسسائد علىكما ش.مما الاقات ل الأتين. ا كنت تكنثر هذهسائد جبطانيات،قيفةتهاما، ف تأس. استخدامحبالهريكك عن كان يرغبوي أن ذلك آخر.خدمعي ذلكاومةته. إذا الجنس بطب الذي تكون فيه فيه. جانبضك إذانتي بعض الأشيواء والطانيتين.زرقة. اجعلان على مكانك.ابدي علىلمما. فينتئ في الأصص الرو ا ت هذالوسماقرب من بعضريكك إلى تعوبة في التاومة بعضج الأم.سب من  النتضانه إذا كنتاجت أنك تشعرك في تطوروز الحودك،،ثدة،هماقا، فحتعدي ق هذاريكك. تنتفي تلوس م مكان آخر. إذا إذا كنت تلقة بشأن تربة، شريكك،طرقناد عن عن، امكنكمافكع باستتك في أناح إلى نحو المثال إلىقولذ أن \" \"أروا معذيمني\". أنلوس هنا\". لكنعني نست في طرضكة\".\". أو \"أعر بالحض التغ في أست بعضراحة فينجلس إلىطب\". أو تساعدك هذاروج من مكانماكن الأخرى أو تسر الوتبكماية. إذا كنتحدثت ركما رور،درجةكعا للست بالر،سبالها، قد تأس من تحدث عنطلب \"ك ت ترغبرين بالراحة. هذهمتار. إذا أن تبقىترم شريكك أنغباتك الجنس أساس. إذا إذا كنتاولتريكك إخاعك بأنضرورة حددود، تضعتها لك عامعمر، ف تحتاجين إلى التفكير في كيفيةغار العلاقةلاقتك.ه. إذا الرغم من أن قد الصمكن أن تجاعلك شريكك عن رغيه في واحدة، الأين،آخر، إلا أن من ي أن تصبح ش بالقلق حهدرك. إذاHumanHumanHumanHumanHumanHumanHumanHumanHumanHumanHumanHumanHumanHumanHumanHumanHumanHumanHumanHumanHumanHumanHumanHumanHumanHumanHumanHumanHumanHumanHumanHumanHumanHumanHumanHumanHumanHumanHumanHumanHumanHumanHumanHumanHumanHumanHumanHumanHumanHumanHumanHumanHumanHumanHumanHumanHumanHumanHumanHumanHumanHumanHumanHumanHumanHumanHumanHumanHumanHumanHumanHumanHumanHumanHumanHumanHumanHumanHumanHumanHumanHumanHumanHumanHumanHumanHumanHumanHumanHumanHumanHumanHumanHumanHumanHumanHumanHumanHumanHumanHumanHumanHumanHumanHumanHumanHumanHumanHumanHumanHumanHumanHumanHumanHumanHumanHumanHumanHumanHumanHumanHumanHumanHumanHumanHumanHumanHumanHumanHumanHumanHumanHumanHumanHumanHumanHumanHumanHumanHumanHumanHumanHumanHumanHumanHumanHumanHumanHumanHumanHumanHumanHumanHumanHumanHumanHumanHumanHumanHumanHumanHumanHumanHumanHumanHumanHumanHumanHumanHumanHumanHumanHumanHumanHumanHumanHumanHumanHumanHumanHumanHumanHumanHumanHumanHumanHumanHumanHumanHumanHumanHumanHumanHumanHumanHumanHumanHumanHumanHumanHumanHumanHumanHumanHumanHumanHumanHumanHumanHumanHumanHumanHumanHumanHumanHumanHumanHumanHumanHumanHumanHumanHumanHumanHumanHumanHumanHumanHumanHumanHumanHumanHumanHumanHumanHumanHumanHumanHumanHumanHumanHumanHumanHumanHumanHumanHumanHumanHumanHumanHumanHumanHumanHumanHumanHumanHumanHumanHumanHumanHumanHumanHumanHumanHumanHumanHumanHumanHumanHumanHumanHumanHumanHumanHumanHumanHumanHumanHumanHumanHumanHumanHumanHumanHumanHumanHumanHumanHumanHumanHumanHumanHumanHumanHumanHumanHumanHumanHumanHumanHumanHumanHumanHumanHumanHumanHumanHumanHumanHumanHumanHumanHumanHumanHumanHumanHumanHumanHumanHumanHumanHumanHumanHumanHumanHumanHumanHumanHumanHumanHumanHumanHumanHumanHumanHumanHumanHumanHumanHumanHumanHumanHumanHumanHumanHumanHumanHumanHumanHumanHumanHumanHumanHumanHumanHumanHumanHumanHumanHumanHumanHumanHumanHumanHumanHumanHumanHumanHumanHumanHumanHumanHumanHumanHumanHumanHumanHumanHumanHumanHumanHumanHumanHumanHumanHumanHumanHumanHumanHumanHumanHumanHumanHumanHumanHumanHumanHumanHumanHumanHumanHumanHumanHumanHumanHumanHumanHumanHumanHumanHumanHumanHumanHumanHumanHumanHumanHumanHumanHumanHumanHumanHumanHumanHumanHumanHumanHumanHumanHumanHumanHumanHumanHumanHumanHumanHumanHumanHumanHumanHumanHumanHumanHumanHumanHumanHumanHumanHumanHumanHumanHumanHumanHumanHumanHumanHumanHumanHumanHumanHumanHumanHumanHumanHumanHumanHumanHumanHumanHumanHumanHumanHumanHumanHumanHumanHumanHumanHumanHumanHumanHumanHumanHumanHumanHumanHumanHumanHumanHumanHumanHumanHumanHumanHumanHumanHumanHumanHumanHumanHumanHumanHumanHumanHumanHumanHumanHumanHumanHumanHumanHumanHumanHumanHumanHumanHumanHumanHumanHumanHumanHumanHumanHumanHumanHumanHumanHumanHumanHumanHumanHumanHumanHumanHumanHumanHumanHumanHumanHumanHumanHumanHumanHumanHumanHumanHumanHumanHumanHumanHumanHumanHumanHumanHumanHumanHumanHumanHumanHumanHumanHumanHumanHumanHumanHumanHumanHumanHumanHumanHumanHumanHumanHumanHumanHumanHumanHumanHumanHumanHumanHumanHumanHumanHumanHumanHumanHumanHumanHumanHumanHumanHumanHumanHumanHumanHumanHumanHumanHumanHumanHumanHumanHumanHumanHumanHumanHumanHumanHumanHumanHumanHumanHumanHumanHumanHumanHumanHumanHumanHumanHumanHumanHumanHumanHumanHumanHumanHumanHumanHumanHumanHumanHumanHumanHumanHumanHumanHumanHumanHumanHumanHumanHumanHumanHumanHumanHumanHumanHumanHumanHumanHumanHumanHumanHumanHumanHumanHumanHumanHumanHumanHumanHumanHumanHumanHumanHumanHumanHumanHumanHumanHumanHumanHumanHumanHumanHumanHumanHumanHumanHumanHumanHumanHumanHumanHumanHumanHumanHumanHumanHumanHumanHumanHumanHumanHumanHumanHumanHumanHumanHumanHumanHumanHumanHumanHumanHumanHumanHumanHumanHumanHumanHumanHumanHumanHumanHumanHumanHumanHumanHumanHumanHumanHumanHumanHumanHumanHumanHumanHumanHumanHumanHumanHumanHumanHumanHumanHumanHumanHumanHumanHumanHumanHumanHumanHumanHumanHumanHumanHumanHumanHumanHumanHumanHumanHumanHumanHumanHumanHumanHumanHumanHumanHumanHumanHumanHumanHumanHumanHumanHumanHumanHumanHumanHumanHumanHumanHumanHumanHumanHumanHumanHumanHumanHumanHumanHumanHumanHumanHumanHumanHumanHumanHumanHumanHumanHumanHumanHumanHumanHumanHumanHumanHumanHumanHumanHumanHumanHumanHumanHumanHumanHumanHumanHumanHumanHumanHumanHumanHumanHumanHumanHumanHumanHumanHumanHumanHumanHumanHumanHumanHumanHumanHumanHumanHumanHumanHumanHumanHumanHumanHumanHumanHumanHumanHumanHumanHumanHumanHumanHumanHumanHumanHumanHumanHumanHumanHumanHumanHumanHumanHumanHumanHumanHumanHumanHumanHumanHumanHumanHumanHumanHumanHumanHumanHumanHumanHumanHumanHumanHumanHumanHumanHumanHumanHumanHumanHumanHumanHumanHumanHumanHumanHumanHumanHumanHumanHumanHumanHumanHumanHumanHumanHumanHumanHumanHumanHumanHumanHumanHumanHumanHumanHumanHumanHumanHumanHumanHumanHumanHumanHumanHumanHumanHumanHumanHumanHumanHumanHumanHumanHumanHumanHumanHumanHumanHumanHumanHumanHumanHumanHumanHumanHumanHumanHumanHumanHumanHumanHumanHumanHumanHumanHumanHumanHumanHumanHumanHumanHumanHumanHumanHumanHumanHumanHumanHumanHumanHumanHumanHumanHumanHumanHumanHumanHumanHumanHumanHumanHumanHumanHumanHumanHumanHumanHumanHumanHumanHumanHumanHumanHumanHumanHumanHumanHumanHumanHumanHumanHumanHumanHumanHumanHumanHumanHumanHumanHumanHumanHumanHumanHumanHumanHumanHumanHumanHumanHumanHumanHumanHumanHumanHumanHumanHumanHumanHumanHumanHumanHumanHumanHumanHumanHumanHumanHumanHumanHumanHumanHumanHumanHumanHumanHumanHumanHumanHumanHumanHumanHumanHumanHumanHumanHumanHumanHumanHumanHumanHumanHumanHumanHumanHumanHumanHumanHumanHumanHumanHumanHumanHuman\n",
    "decoded_refs[0]: في العلاقات السليمة، يمكنك بناء الثقة والتقارب من خلال التحدث والاستماع والمشاركة واحترام أفكاركما. يمكن استخدام نشاطات غير جنسية مثل اللعب بألعاب لوحية أو القراءة معا. يمكنك أيضا إجراء استطلاعات رأي أو مشاهدة فيلم مع وسائد وأضواء. إذا شعرت بالقلق، ابتعدي قليلا أو تقدمي لسببًا لنقل المكان. يجب أن يحترم شريكك رغباتك ويشعرك بالراحة."
   ]
  },
  {
   "cell_type": "code",
   "execution_count": null,
   "metadata": {},
   "outputs": [],
   "source": []
  },
  {
   "cell_type": "code",
   "execution_count": 5,
   "metadata": {},
   "outputs": [],
   "source": [
    "from transformers import AutoTokenizer\n",
    "import re\n",
    "import random\n",
    "from multiprocessing import cpu_count\n",
    "import os\n",
    "os.environ['CUDA_VISIBLE_DEVICES'] = \"1\"\n",
    "\n",
    "import os\n",
    "import torch\n",
    "from transformers import AutoModelForCausalLM, AutoTokenizer, Trainer, TrainingArguments\n",
    "from datasets import load_dataset\n",
    "from evaluate import load as load_metric"
   ]
  },
  {
   "cell_type": "code",
   "execution_count": 6,
   "metadata": {},
   "outputs": [],
   "source": [
    "model_id = \"Qwen/Qwen2.5-0.5B-Instruct\"\n",
    "\n",
    "tokenizer = AutoTokenizer.from_pretrained(model_id)\n",
    "\n",
    "# set pad_token_id equal to the eos_token_id if not set\n",
    "if tokenizer.pad_token_id is None:\n",
    "  tokenizer.pad_token_id = tokenizer.eos_token_id\n",
    "\n",
    "# Set reasonable default for models without max length\n",
    "if tokenizer.model_max_length > 100_000:\n",
    "  tokenizer.model_max_length = 2048\n",
    "  \n",
    "# Set chat template\n",
    "DEFAULT_CHAT_TEMPLATE = \"{% for message in messages %}\\n{% if message['role'] == 'user' %}\\n{{ '<|user|>\\n' + message['content'] + eos_token }}\\n{% elif message['role'] == 'system' %}\\n{{ '<|system|>\\n' + message['content'] + eos_token }}\\n{% elif message['role'] == 'assistant' %}\\n{{ '<|assistant|>\\n'  + message['content'] + eos_token }}\\n{% endif %}\\n{% if loop.last and add_generation_prompt %}\\n{{ '<|assistant|>' }}\\n{% endif %}\\n{% endfor %}\"\n",
    "tokenizer.chat_template = DEFAULT_CHAT_TEMPLATE"
   ]
  },
  {
   "cell_type": "code",
   "execution_count": 7,
   "metadata": {},
   "outputs": [
    {
     "data": {
      "text/plain": [
       "\"{% for message in messages %}\\n{% if message['role'] == 'user' %}\\n{{ '<|user|>\\n' + message['content'] + eos_token }}\\n{% elif message['role'] == 'system' %}\\n{{ '<|system|>\\n' + message['content'] + eos_token }}\\n{% elif message['role'] == 'assistant' %}\\n{{ '<|assistant|>\\n'  + message['content'] + eos_token }}\\n{% endif %}\\n{% if loop.last and add_generation_prompt %}\\n{{ '<|assistant|>' }}\\n{% endif %}\\n{% endfor %}\""
      ]
     },
     "execution_count": 7,
     "metadata": {},
     "output_type": "execute_result"
    }
   ],
   "source": [
    "DEFAULT_CHAT_TEMPLATE"
   ]
  },
  {
   "cell_type": "code",
   "execution_count": 8,
   "metadata": {},
   "outputs": [],
   "source": [
    "raw_datasets = load_dataset(\"BounharAbdelaziz/Arabic-Synthetic-Summarization-Dataset-Filtered\")"
   ]
  },
  {
   "cell_type": "code",
   "execution_count": 31,
   "metadata": {},
   "outputs": [
    {
     "name": "stderr",
     "output_type": "stream",
     "text": [
      "Map: 100%|██████████| 3526/3526 [00:00<00:00, 7254.64 examples/s]\n",
      "Map: 100%|██████████| 437/437 [00:00<00:00, 7287.42 examples/s]\n",
      "Map: 100%|██████████| 444/444 [00:00<00:00, 7266.86 examples/s]\n",
      "Applying chat template (num_proc=64): 100%|██████████| 3526/3526 [00:06<00:00, 527.45 examples/s]\n",
      "Applying chat template (num_proc=64): 100%|██████████| 437/437 [00:06<00:00, 62.94 examples/s]\n",
      "Applying chat template (num_proc=64): 100%|██████████| 444/444 [00:06<00:00, 65.22 examples/s]\n"
     ]
    },
    {
     "name": "stdout",
     "output_type": "stream",
     "text": [
      "Sample 1884 of the processed training set:\n",
      "\n",
      "<|user|>\n",
      "إن قام الطبيب بتشخيص حالتك بعدوى المتدثرة، سيقوم بوصف جرعة مضادات حيوية، وهي الطريقة الوحيدة لعلاج المرض إلى جانب تجنبه في المقام الأول. تختفي العدوى عادة خلال أسبوع أو أسبوعين.  خط العلاج الأول هو دواء azithromycin (1 جم كجرعة واحدة يوميا) أو doxycycline (100 مجم فمويا مرتين يوميا لمدة 7 أيام).  قد يتكون علاجك من جرعة تؤخذ مرة واحدة أو قد تحتاج إلى تناول العلاج عدة مرات يوميا لمدة 5-10 أيام.  يحتاج الشريك إلى العلاج أيضا حتى دون ظهور أعراض المتدثرة. سيؤدي ذلك إلى منعك أنت وشريكتك من نقل المرض بينكما مرة بعد أخرى.  لا تشارك أدوية علاج عدوى المتدثرة مع أي شخص آخر. إن كنت في مرحلة الحمل وكنت تعانين من عدوى المتدثرة، قد يصف لك الطبيب azithromycin في الثلث الثاني أو الثالث لتقليل خطر نقل المرض إلى الطفل. يتم علاج عدوى المتدثرة خلال الحمل في وقت اكتشافها، وسيتم اختبارها مجددا بعد ذلك للتأكد من زوال العدوى. بعد الولادة، سيقوم الطبيب بفحص المولود الجديد وعلاجه وفقا لذلك.  إن قمت بالولادة ونقلت عدوى المتدثرة إلى المولود الجديد، سيقوم الطبيب بعلاج المرض باستخدام المضادات الحيوية لمنع الالتهاب الرئوي أو عدوى العين الخطيرة لدى الطفل.  يقوم معظم الأطباء بوصف erythromycin كمرهم عين بشكل وقائي لتجنب تأثير عدوى العينين المتعلقة بعدوى المتدثرة على المولود.  ينبغي عليك أنت والطبيب مراقبة المولود الجديد لظهور الالتهاب الرئوي المتعلق بعدوى المتدثرة لفترة الأشهر الثلاث الأول من حياة المولود على الأقل.  إن كان طفلك يعاني من الالتهاب الرئوي المتعلق بعدوى المتدثرة، سيصف الطبيب على الأرجح erythromycin أو azithromycin. خلال فترة علاج المتدثرة، ابتعد عن النشاط الجنسي بما في ذلك الجنس الفموي والشرجي. قد يساعد ذلك على منع انتشار العدوى إلى الشريك ويقلل من خطر عودة العدوى من جديد.  إن تناولت جرعة واحدة من العلاج، تجنب النشاط الجنسي لمدة 7 أيام بعد تناول الجرعة.  إن تناولت جرعة لمدة 7 أيام من العلاج، تجنب النشاط الجنسي طوال فترة العلاج. إن استمرت أعراض عدوى المتدثرة بعد جرعة العلاج، من المهم رؤية الطبيب في أسرع وقت ممكن. يؤدي التحكم في هذه الأعراض وعلاجها هي والمرض على ضمان عدم عودة المرض وعدم التقاط عدوى أكثر خطورة أو حدوث مضاعفات. قد يؤدي تجاهل الأعراض أو عودة المرض إلى مضاعفات صحية مثل أمراض الحوض الالتهابية التي قد تؤدي إلى ضرر الأعضاء التناسلية بشكل دائم وكذلك الحمل خارج الرحم.<|im_end|>\n",
      "<|assistant|>\n",
      "يصف الطبيب جرعة مضادات حيوية لعلاج المتدثرة، وقد تكون الجرعة مرة واحدة أو عدة مرات يومياً. يحتاج الشريك إلى العلاج أيضاً. يجب عدم مشاركة الأدوية وتناولها طبقاً للمدة المعطاة. يتم علاج المولود الجديد إذا نقل إليه العدوى. يجب الابتعاد عن النشاط الجنسي أثناء العلاج لمنع انتشار العدوى.<|im_end|>\n",
      "\n",
      "\n",
      "Sample 2292 of the processed training set:\n",
      "\n",
      "<|user|>\n",
      "يبدو الأمر سهلا إذا تركت الأمور تمر من تلقاء نفسها بتأجيل إجراء أية محادثة معقدة، لكن الحقيقة هي أن تجنب الحديث في هذه الأمور يجعل الوضع أسوأ.  اطلب منها تخصيص بعض الوقت للحديث عن المشكلات. يمكنك أن تقول: \"أعرف أنك غاضبة مما فعلت في ذلك اليوم، سأقدر لو أننا استطعنا قضاء بعض الوقت في الحديث عن الأمر\". تذكر دائما أن تأجيل المواضيع المعقدة لن يؤدي إلا لتفاقم الأمور بمرور الوقت، وسينتهي بالإضرار بالعلاقة والقضاء عليها ببطء. قل لها: \"أريد أن أتحدث معك بهدوء وانفتاح عن المشكلات التي نواجهها\" أو مثلا \"هناك بعض الأشياء التي أحتاج أن أتحدث إليك بخصوصها وآمل أنك ستبقي ذهنك حاضرا ومتفتحا للمناقشة\". حاول تحديد الحالات التي تشعر فيها بحاجز بينك وبين حبيبتك أو عندما تشعر أنك لا تستطيع أن تكون صريحا معها حيال بعض الأمور، ثم حاول التفكير في الأسباب واشرحها لها.  قل لها: \"أعلم أنني لم أكن صريحا ومنفتحا حول بعض الأمور معك، لقد كنت أفكر في السبب وأظن أنها آلية دفاعية فقد كنت دائما من النوع الذي يقيم الحواجز بينه وبين الآخرين، أتمنى أن تكوني صبورة معي بينما أعمل على تحسين الأمور\". إذا لم تستطع الانفتاح معك فحاول ألا تأخذ الأمور على محمل شخصي، وتعاطف معها بدلا من الاستسلام والضغط عليها. تحل بالتفاهم إذا كانت لا تستطيع التحدث معك بأريحية وقل لها على سبيل المثال: \"لا أريد إجبارك على التحدث عن مشاعرك أو الضغط عليك لخوض محادثات معقدة، ولكني آمل أن نصل سويا إلى مرحلة تستطيعين عندها الوثوق بي والتحدث عن مشاعرك. أعدك أن نتحدث بصراحة وهدوء مع بعضنا البعض عن أي شيء\". حاول ألا تخجل من توضيح الموضوع عندما تبدأ في محادثة معقدة سواء كنت تريد للعلاقة أن تصبح أكثر حميمية أو أن تقوم بحل مشكلة، أظهر نواياك بوضوح وثقة منذ البداية.  يمكنك على سبيل المثال أن تقول، \"أود التحدث عن الانتقال بعلاقتنا إلى الخطوة التالية، ما هو شعورك حول هذا الأمر؟ وهل لديك توقعات حول التوقيت المناسب؟\" اسألها: \"هل يمكننا التحدث عن الوقت الذي قضيناه مع أصدقائك الليلة الماضية، شعرت أنني لا أنتمي المجموعة تماما، لا أريد منعك من التواصل معهم بالتأكيد لكن ربما يمكنك مساعدتي في التواصل مع أصدقائك بشكل أكبر عندما نقضي الوقت معهم في المرات القادمة\".<|im_end|>\n",
      "<|assistant|>\n",
      "تستلزم التعامل مع المشكلات بالشفافية والتواصل الهادئ. طلب تخصيص الوقت للنقاش واستعراض العقبات بإيجاز.<|im_end|>\n",
      "\n",
      "\n",
      "Sample 2990 of the processed training set:\n",
      "\n",
      "<|user|>\n",
      "فيمكنك إرسال فيديوهات مسجلة لأي شخص تريد كما أن إرسال تلك الفيديوهات يعد أبسط بكثير من فيديوهات السناب. يجب عليك أولا فتح صندوق المحادثة مع الشخص الذي تود إرسال الفيديو إليه. ستظهر دائرة صغيرة بها الفيديو الخاص بك. تستخدم الفيديوهات المسجلة الكاميرا الأمامية فقط. سيرسل التسجيل بشكل تلقائي إن تركت الزر أو استغرق تسجيل الفيديو العشر ثوان. أما إن كنت تريد إنهاء الفيديو، اضغط على زر \"X\" الموجود على الشاشة ثم اتركه. سيتم إرسال الفيديو تلقائيا بمجرد تركك زر التسجيل أو بعد التسجيل لمدة عشر ثوان. وبمجرد إرسال الفيديو، لا يمكنك التراجع في ذلك.<|im_end|>\n",
      "<|assistant|>\n",
      "يمكن إرسال فيديوهات مسجلة عبر صندوق المحادثة، تستخدم الكاميرا الأمامية وتتم إرسالها تلقائيا بعد العشر ثوان أو الضغط على \"X\". لا يمكن التراجع بعد الإرسال.<|im_end|>\n",
      "\n",
      "\n"
     ]
    }
   ],
   "source": [
    "from datasets import load_dataset\n",
    "from transformers import AutoTokenizer\n",
    "import random\n",
    "from multiprocessing import cpu_count\n",
    "\n",
    "def create_conversation(example):\n",
    "    \"\"\"\n",
    "    Transform the dataset into a conversational format.\n",
    "    The user provides the text, and the assistant provides the summary.\n",
    "    \"\"\"\n",
    "    # Create a conversation with user and assistant roles\n",
    "    messages = [\n",
    "        {\"role\": \"user\", \"content\": example[\"text\"]},  # User provides the text\n",
    "        {\"role\": \"assistant\", \"content\": example[\"summary\"]}  # Assistant provides the summary\n",
    "    ]\n",
    "    # Return the conversation as a dictionary\n",
    "    return {\"messages\": messages}\n",
    "\n",
    "# Apply the chat template to the dataset\n",
    "def apply_chat_template(example, tokenizer):\n",
    "    example[\"text\"] = tokenizer.apply_chat_template(example[\"messages\"], tokenize=False)\n",
    "    return example\n",
    "\n",
    "dataset = load_dataset(\"BounharAbdelaziz/Arabic-Synthetic-Summarization-Dataset-Filtered\")\n",
    "\n",
    "# Load the model and tokenizer\n",
    "model_id = \"Qwen/Qwen2.5-0.5B-Instruct\"\n",
    "tokenizer = AutoTokenizer.from_pretrained(model_id)\n",
    "\n",
    "# Set pad_token_id equal to the eos_token_id if not set\n",
    "if tokenizer.pad_token_id is None:\n",
    "    tokenizer.pad_token_id = tokenizer.eos_token_id\n",
    "\n",
    "# Set reasonable default for models without max length\n",
    "if tokenizer.model_max_length > 100_000:\n",
    "    tokenizer.model_max_length = 2048\n",
    "\n",
    "# Set chat template\n",
    "DEFAULT_CHAT_TEMPLATE = \"{% for message in messages %}\\n{% if message['role'] == 'user' %}\\n{{ '<|user|>\\n' + message['content'] + eos_token }}\\n{% elif message['role'] == 'system' %}\\n{{ '<|system|>\\n' + message['content'] + eos_token }}\\n{% elif message['role'] == 'assistant' %}\\n{{ '<|assistant|>\\n'  + message['content'] + eos_token }}\\n{% endif %}\\n{% if loop.last and add_generation_prompt %}\\n{{ '<|assistant|>' }}\\n{% endif %}\\n{% endfor %}\"\n",
    "tokenizer.chat_template = DEFAULT_CHAT_TEMPLATE\n",
    "\n",
    "# Load the dataset\n",
    "\n",
    "# Transform the dataset into a conversational format\n",
    "dataset = dataset.map(create_conversation, remove_columns=[\"text\", \"summary\"])\n",
    "\n",
    "dataset = dataset.map(\n",
    "    apply_chat_template,\n",
    "    num_proc=cpu_count(),\n",
    "    fn_kwargs={\"tokenizer\": tokenizer},\n",
    "    remove_columns=[\"messages\"],\n",
    "    desc=\"Applying chat template\"\n",
    ")\n",
    "\n",
    "# Create the splits\n",
    "train_dataset = dataset[\"train\"]\n",
    "eval_dataset = dataset[\"test\"]\n",
    "\n",
    "# Print some samples to verify\n",
    "num_samples_to_print = min(3, len(dataset[\"train\"]))  # Ensure we don't exceed the dataset size\n",
    "for index in random.sample(range(len(dataset[\"train\"])), num_samples_to_print):\n",
    "    print(f\"Sample {index} of the processed training set:\\n\\n{dataset['train'][index]['text']}\\n\")"
   ]
  },
  {
   "cell_type": "code",
   "execution_count": 32,
   "metadata": {},
   "outputs": [
    {
     "data": {
      "text/plain": [
       "Dataset({\n",
       "    features: ['summary_model_name', 'tokenizer_name', 'dataset_source', 'sequence_length', 'text'],\n",
       "    num_rows: 3526\n",
       "})"
      ]
     },
     "execution_count": 32,
     "metadata": {},
     "output_type": "execute_result"
    }
   ],
   "source": [
    "train_dataset"
   ]
  },
  {
   "cell_type": "code",
   "execution_count": 33,
   "metadata": {},
   "outputs": [
    {
     "data": {
      "text/plain": [
       "Dataset({\n",
       "    features: ['summary_model_name', 'tokenizer_name', 'dataset_source', 'sequence_length', 'text'],\n",
       "    num_rows: 444\n",
       "})"
      ]
     },
     "execution_count": 33,
     "metadata": {},
     "output_type": "execute_result"
    }
   ],
   "source": [
    "eval_dataset"
   ]
  },
  {
   "cell_type": "code",
   "execution_count": 10,
   "metadata": {},
   "outputs": [],
   "source": [
    "raw_datasets['train'] = raw_datasets['train'].select(range(2))\n",
    "raw_datasets['validation'] = raw_datasets['validation'].select(range(2))\n",
    "raw_datasets['test'] = raw_datasets['test'].select(range(2))"
   ]
  },
  {
   "cell_type": "code",
   "execution_count": 11,
   "metadata": {},
   "outputs": [
    {
     "name": "stderr",
     "output_type": "stream",
     "text": [
      "num_proc must be <= 2. Reducing num_proc to 2 for dataset of size 2.\n",
      "Applying chat template (num_proc=2):   0%|          | 0/2 [00:00<?, ? examples/s]\n"
     ]
    },
    {
     "ename": "TypeError",
     "evalue": "string indices must be integers, not 'str'",
     "output_type": "error",
     "traceback": [
      "\u001b[0;31m---------------------------------------------------------------------------\u001b[0m",
      "\u001b[0;31mRemoteTraceback\u001b[0m                           Traceback (most recent call last)",
      "\u001b[0;31mRemoteTraceback\u001b[0m: \n\"\"\"\nTraceback (most recent call last):\n  File \"/home/infres/abounhar/.local/lib/python3.12/site-packages/multiprocess/pool.py\", line 125, in worker\n    result = (True, func(*args, **kwds))\n                    ^^^^^^^^^^^^^^^^^^^\n  File \"/home/infres/abounhar/.local/lib/python3.12/site-packages/datasets/utils/py_utils.py\", line 678, in _write_generator_to_queue\n    for i, result in enumerate(func(**kwargs)):\n  File \"/home/infres/abounhar/.local/lib/python3.12/site-packages/datasets/arrow_dataset.py\", line 3428, in _map_single\n    example = apply_function_on_filtered_inputs(example, i, offset=offset)\n              ^^^^^^^^^^^^^^^^^^^^^^^^^^^^^^^^^^^^^^^^^^^^^^^^^^^^^^^^^^^^\n  File \"/home/infres/abounhar/.local/lib/python3.12/site-packages/datasets/arrow_dataset.py\", line 3320, in apply_function_on_filtered_inputs\n    processed_inputs = function(*fn_args, *additional_args, **fn_kwargs)\n                       ^^^^^^^^^^^^^^^^^^^^^^^^^^^^^^^^^^^^^^^^^^^^^^^^^\n  File \"/tmp/ipykernel_982538/2090164458.py\", line 4, in apply_chat_template\n    if messages[0][\"role\"] != \"system\":\n       ~~~~~~~~~~~^^^^^^^^\nTypeError: string indices must be integers, not 'str'\n\"\"\"",
      "\nThe above exception was the direct cause of the following exception:\n",
      "\u001b[0;31mTypeError\u001b[0m                                 Traceback (most recent call last)",
      "Cell \u001b[0;32mIn[11], line 2\u001b[0m\n\u001b[1;32m      1\u001b[0m column_names \u001b[38;5;241m=\u001b[39m \u001b[38;5;28mlist\u001b[39m(raw_datasets[\u001b[38;5;124m\"\u001b[39m\u001b[38;5;124mtrain\u001b[39m\u001b[38;5;124m\"\u001b[39m]\u001b[38;5;241m.\u001b[39mfeatures)\n\u001b[0;32m----> 2\u001b[0m raw_datasets \u001b[38;5;241m=\u001b[39m \u001b[43mraw_datasets\u001b[49m\u001b[38;5;241;43m.\u001b[39;49m\u001b[43mmap\u001b[49m\u001b[43m(\u001b[49m\u001b[43mapply_chat_template\u001b[49m\u001b[43m,\u001b[49m\n\u001b[1;32m      3\u001b[0m \u001b[43m                                \u001b[49m\u001b[43mnum_proc\u001b[49m\u001b[38;5;241;43m=\u001b[39;49m\u001b[43mcpu_count\u001b[49m\u001b[43m(\u001b[49m\u001b[43m)\u001b[49m\u001b[43m,\u001b[49m\n\u001b[1;32m      4\u001b[0m \u001b[43m                                \u001b[49m\u001b[43mfn_kwargs\u001b[49m\u001b[38;5;241;43m=\u001b[39;49m\u001b[43m{\u001b[49m\u001b[38;5;124;43m\"\u001b[39;49m\u001b[38;5;124;43mtokenizer\u001b[39;49m\u001b[38;5;124;43m\"\u001b[39;49m\u001b[43m:\u001b[49m\u001b[43m \u001b[49m\u001b[43mtokenizer\u001b[49m\u001b[43m}\u001b[49m\u001b[43m,\u001b[49m\n\u001b[1;32m      5\u001b[0m \u001b[43m                                \u001b[49m\u001b[43mremove_columns\u001b[49m\u001b[38;5;241;43m=\u001b[39;49m\u001b[43mcolumn_names\u001b[49m\u001b[43m,\u001b[49m\n\u001b[1;32m      6\u001b[0m \u001b[43m                                \u001b[49m\u001b[43mdesc\u001b[49m\u001b[38;5;241;43m=\u001b[39;49m\u001b[38;5;124;43m\"\u001b[39;49m\u001b[38;5;124;43mApplying chat template\u001b[39;49m\u001b[38;5;124;43m\"\u001b[39;49m\u001b[43m,\u001b[49m\u001b[43m)\u001b[49m\n\u001b[1;32m      8\u001b[0m \u001b[38;5;66;03m# create the splits\u001b[39;00m\n\u001b[1;32m      9\u001b[0m train_dataset \u001b[38;5;241m=\u001b[39m raw_datasets[\u001b[38;5;124m\"\u001b[39m\u001b[38;5;124mtrain\u001b[39m\u001b[38;5;124m\"\u001b[39m]\n",
      "File \u001b[0;32m~/.local/lib/python3.12/site-packages/datasets/dataset_dict.py:887\u001b[0m, in \u001b[0;36mDatasetDict.map\u001b[0;34m(self, function, with_indices, with_rank, input_columns, batched, batch_size, drop_last_batch, remove_columns, keep_in_memory, load_from_cache_file, cache_file_names, writer_batch_size, features, disable_nullable, fn_kwargs, num_proc, desc)\u001b[0m\n\u001b[1;32m    883\u001b[0m \u001b[38;5;28;01mif\u001b[39;00m cache_file_names \u001b[38;5;129;01mis\u001b[39;00m \u001b[38;5;28;01mNone\u001b[39;00m:\n\u001b[1;32m    884\u001b[0m     cache_file_names \u001b[38;5;241m=\u001b[39m {k: \u001b[38;5;28;01mNone\u001b[39;00m \u001b[38;5;28;01mfor\u001b[39;00m k \u001b[38;5;129;01min\u001b[39;00m \u001b[38;5;28mself\u001b[39m}\n\u001b[1;32m    885\u001b[0m \u001b[38;5;28;01mreturn\u001b[39;00m DatasetDict(\n\u001b[1;32m    886\u001b[0m     {\n\u001b[0;32m--> 887\u001b[0m         k: \u001b[43mdataset\u001b[49m\u001b[38;5;241;43m.\u001b[39;49m\u001b[43mmap\u001b[49m\u001b[43m(\u001b[49m\n\u001b[1;32m    888\u001b[0m \u001b[43m            \u001b[49m\u001b[43mfunction\u001b[49m\u001b[38;5;241;43m=\u001b[39;49m\u001b[43mfunction\u001b[49m\u001b[43m,\u001b[49m\n\u001b[1;32m    889\u001b[0m \u001b[43m            \u001b[49m\u001b[43mwith_indices\u001b[49m\u001b[38;5;241;43m=\u001b[39;49m\u001b[43mwith_indices\u001b[49m\u001b[43m,\u001b[49m\n\u001b[1;32m    890\u001b[0m \u001b[43m            \u001b[49m\u001b[43mwith_rank\u001b[49m\u001b[38;5;241;43m=\u001b[39;49m\u001b[43mwith_rank\u001b[49m\u001b[43m,\u001b[49m\n\u001b[1;32m    891\u001b[0m \u001b[43m            \u001b[49m\u001b[43minput_columns\u001b[49m\u001b[38;5;241;43m=\u001b[39;49m\u001b[43minput_columns\u001b[49m\u001b[43m,\u001b[49m\n\u001b[1;32m    892\u001b[0m \u001b[43m            \u001b[49m\u001b[43mbatched\u001b[49m\u001b[38;5;241;43m=\u001b[39;49m\u001b[43mbatched\u001b[49m\u001b[43m,\u001b[49m\n\u001b[1;32m    893\u001b[0m \u001b[43m            \u001b[49m\u001b[43mbatch_size\u001b[49m\u001b[38;5;241;43m=\u001b[39;49m\u001b[43mbatch_size\u001b[49m\u001b[43m,\u001b[49m\n\u001b[1;32m    894\u001b[0m \u001b[43m            \u001b[49m\u001b[43mdrop_last_batch\u001b[49m\u001b[38;5;241;43m=\u001b[39;49m\u001b[43mdrop_last_batch\u001b[49m\u001b[43m,\u001b[49m\n\u001b[1;32m    895\u001b[0m \u001b[43m            \u001b[49m\u001b[43mremove_columns\u001b[49m\u001b[38;5;241;43m=\u001b[39;49m\u001b[43mremove_columns\u001b[49m\u001b[43m,\u001b[49m\n\u001b[1;32m    896\u001b[0m \u001b[43m            \u001b[49m\u001b[43mkeep_in_memory\u001b[49m\u001b[38;5;241;43m=\u001b[39;49m\u001b[43mkeep_in_memory\u001b[49m\u001b[43m,\u001b[49m\n\u001b[1;32m    897\u001b[0m \u001b[43m            \u001b[49m\u001b[43mload_from_cache_file\u001b[49m\u001b[38;5;241;43m=\u001b[39;49m\u001b[43mload_from_cache_file\u001b[49m\u001b[43m,\u001b[49m\n\u001b[1;32m    898\u001b[0m \u001b[43m            \u001b[49m\u001b[43mcache_file_name\u001b[49m\u001b[38;5;241;43m=\u001b[39;49m\u001b[43mcache_file_names\u001b[49m\u001b[43m[\u001b[49m\u001b[43mk\u001b[49m\u001b[43m]\u001b[49m\u001b[43m,\u001b[49m\n\u001b[1;32m    899\u001b[0m \u001b[43m            \u001b[49m\u001b[43mwriter_batch_size\u001b[49m\u001b[38;5;241;43m=\u001b[39;49m\u001b[43mwriter_batch_size\u001b[49m\u001b[43m,\u001b[49m\n\u001b[1;32m    900\u001b[0m \u001b[43m            \u001b[49m\u001b[43mfeatures\u001b[49m\u001b[38;5;241;43m=\u001b[39;49m\u001b[43mfeatures\u001b[49m\u001b[43m,\u001b[49m\n\u001b[1;32m    901\u001b[0m \u001b[43m            \u001b[49m\u001b[43mdisable_nullable\u001b[49m\u001b[38;5;241;43m=\u001b[39;49m\u001b[43mdisable_nullable\u001b[49m\u001b[43m,\u001b[49m\n\u001b[1;32m    902\u001b[0m \u001b[43m            \u001b[49m\u001b[43mfn_kwargs\u001b[49m\u001b[38;5;241;43m=\u001b[39;49m\u001b[43mfn_kwargs\u001b[49m\u001b[43m,\u001b[49m\n\u001b[1;32m    903\u001b[0m \u001b[43m            \u001b[49m\u001b[43mnum_proc\u001b[49m\u001b[38;5;241;43m=\u001b[39;49m\u001b[43mnum_proc\u001b[49m\u001b[43m,\u001b[49m\n\u001b[1;32m    904\u001b[0m \u001b[43m            \u001b[49m\u001b[43mdesc\u001b[49m\u001b[38;5;241;43m=\u001b[39;49m\u001b[43mdesc\u001b[49m\u001b[43m,\u001b[49m\n\u001b[1;32m    905\u001b[0m \u001b[43m        \u001b[49m\u001b[43m)\u001b[49m\n\u001b[1;32m    906\u001b[0m         \u001b[38;5;28;01mfor\u001b[39;00m k, dataset \u001b[38;5;129;01min\u001b[39;00m \u001b[38;5;28mself\u001b[39m\u001b[38;5;241m.\u001b[39mitems()\n\u001b[1;32m    907\u001b[0m     }\n\u001b[1;32m    908\u001b[0m )\n",
      "File \u001b[0;32m~/.local/lib/python3.12/site-packages/datasets/arrow_dataset.py:560\u001b[0m, in \u001b[0;36mtransmit_format.<locals>.wrapper\u001b[0;34m(*args, **kwargs)\u001b[0m\n\u001b[1;32m    553\u001b[0m self_format \u001b[38;5;241m=\u001b[39m {\n\u001b[1;32m    554\u001b[0m     \u001b[38;5;124m\"\u001b[39m\u001b[38;5;124mtype\u001b[39m\u001b[38;5;124m\"\u001b[39m: \u001b[38;5;28mself\u001b[39m\u001b[38;5;241m.\u001b[39m_format_type,\n\u001b[1;32m    555\u001b[0m     \u001b[38;5;124m\"\u001b[39m\u001b[38;5;124mformat_kwargs\u001b[39m\u001b[38;5;124m\"\u001b[39m: \u001b[38;5;28mself\u001b[39m\u001b[38;5;241m.\u001b[39m_format_kwargs,\n\u001b[1;32m    556\u001b[0m     \u001b[38;5;124m\"\u001b[39m\u001b[38;5;124mcolumns\u001b[39m\u001b[38;5;124m\"\u001b[39m: \u001b[38;5;28mself\u001b[39m\u001b[38;5;241m.\u001b[39m_format_columns,\n\u001b[1;32m    557\u001b[0m     \u001b[38;5;124m\"\u001b[39m\u001b[38;5;124moutput_all_columns\u001b[39m\u001b[38;5;124m\"\u001b[39m: \u001b[38;5;28mself\u001b[39m\u001b[38;5;241m.\u001b[39m_output_all_columns,\n\u001b[1;32m    558\u001b[0m }\n\u001b[1;32m    559\u001b[0m \u001b[38;5;66;03m# apply actual function\u001b[39;00m\n\u001b[0;32m--> 560\u001b[0m out: Union[\u001b[38;5;124m\"\u001b[39m\u001b[38;5;124mDataset\u001b[39m\u001b[38;5;124m\"\u001b[39m, \u001b[38;5;124m\"\u001b[39m\u001b[38;5;124mDatasetDict\u001b[39m\u001b[38;5;124m\"\u001b[39m] \u001b[38;5;241m=\u001b[39m \u001b[43mfunc\u001b[49m\u001b[43m(\u001b[49m\u001b[38;5;28;43mself\u001b[39;49m\u001b[43m,\u001b[49m\u001b[43m \u001b[49m\u001b[38;5;241;43m*\u001b[39;49m\u001b[43margs\u001b[49m\u001b[43m,\u001b[49m\u001b[43m \u001b[49m\u001b[38;5;241;43m*\u001b[39;49m\u001b[38;5;241;43m*\u001b[39;49m\u001b[43mkwargs\u001b[49m\u001b[43m)\u001b[49m\n\u001b[1;32m    561\u001b[0m datasets: List[\u001b[38;5;124m\"\u001b[39m\u001b[38;5;124mDataset\u001b[39m\u001b[38;5;124m\"\u001b[39m] \u001b[38;5;241m=\u001b[39m \u001b[38;5;28mlist\u001b[39m(out\u001b[38;5;241m.\u001b[39mvalues()) \u001b[38;5;28;01mif\u001b[39;00m \u001b[38;5;28misinstance\u001b[39m(out, \u001b[38;5;28mdict\u001b[39m) \u001b[38;5;28;01melse\u001b[39;00m [out]\n\u001b[1;32m    562\u001b[0m \u001b[38;5;66;03m# re-apply format to the output\u001b[39;00m\n",
      "File \u001b[0;32m~/.local/lib/python3.12/site-packages/datasets/arrow_dataset.py:3147\u001b[0m, in \u001b[0;36mDataset.map\u001b[0;34m(self, function, with_indices, with_rank, input_columns, batched, batch_size, drop_last_batch, remove_columns, keep_in_memory, load_from_cache_file, cache_file_name, writer_batch_size, features, disable_nullable, fn_kwargs, num_proc, suffix_template, new_fingerprint, desc)\u001b[0m\n\u001b[1;32m   3141\u001b[0m logger\u001b[38;5;241m.\u001b[39minfo(\u001b[38;5;124mf\u001b[39m\u001b[38;5;124m\"\u001b[39m\u001b[38;5;124mSpawning \u001b[39m\u001b[38;5;132;01m{\u001b[39;00mnum_proc\u001b[38;5;132;01m}\u001b[39;00m\u001b[38;5;124m processes\u001b[39m\u001b[38;5;124m\"\u001b[39m)\n\u001b[1;32m   3142\u001b[0m \u001b[38;5;28;01mwith\u001b[39;00m hf_tqdm(\n\u001b[1;32m   3143\u001b[0m     unit\u001b[38;5;241m=\u001b[39m\u001b[38;5;124m\"\u001b[39m\u001b[38;5;124m examples\u001b[39m\u001b[38;5;124m\"\u001b[39m,\n\u001b[1;32m   3144\u001b[0m     total\u001b[38;5;241m=\u001b[39mpbar_total,\n\u001b[1;32m   3145\u001b[0m     desc\u001b[38;5;241m=\u001b[39m(desc \u001b[38;5;129;01mor\u001b[39;00m \u001b[38;5;124m\"\u001b[39m\u001b[38;5;124mMap\u001b[39m\u001b[38;5;124m\"\u001b[39m) \u001b[38;5;241m+\u001b[39m \u001b[38;5;124mf\u001b[39m\u001b[38;5;124m\"\u001b[39m\u001b[38;5;124m (num_proc=\u001b[39m\u001b[38;5;132;01m{\u001b[39;00mnum_proc\u001b[38;5;132;01m}\u001b[39;00m\u001b[38;5;124m)\u001b[39m\u001b[38;5;124m\"\u001b[39m,\n\u001b[1;32m   3146\u001b[0m ) \u001b[38;5;28;01mas\u001b[39;00m pbar:\n\u001b[0;32m-> 3147\u001b[0m \u001b[43m    \u001b[49m\u001b[38;5;28;43;01mfor\u001b[39;49;00m\u001b[43m \u001b[49m\u001b[43mrank\u001b[49m\u001b[43m,\u001b[49m\u001b[43m \u001b[49m\u001b[43mdone\u001b[49m\u001b[43m,\u001b[49m\u001b[43m \u001b[49m\u001b[43mcontent\u001b[49m\u001b[43m \u001b[49m\u001b[38;5;129;43;01min\u001b[39;49;00m\u001b[43m \u001b[49m\u001b[43miflatmap_unordered\u001b[49m\u001b[43m(\u001b[49m\n\u001b[1;32m   3148\u001b[0m \u001b[43m        \u001b[49m\u001b[43mpool\u001b[49m\u001b[43m,\u001b[49m\u001b[43m \u001b[49m\u001b[43mDataset\u001b[49m\u001b[38;5;241;43m.\u001b[39;49m\u001b[43m_map_single\u001b[49m\u001b[43m,\u001b[49m\u001b[43m \u001b[49m\u001b[43mkwargs_iterable\u001b[49m\u001b[38;5;241;43m=\u001b[39;49m\u001b[43mkwargs_per_job\u001b[49m\n\u001b[1;32m   3149\u001b[0m \u001b[43m    \u001b[49m\u001b[43m)\u001b[49m\u001b[43m:\u001b[49m\n\u001b[1;32m   3150\u001b[0m \u001b[43m        \u001b[49m\u001b[38;5;28;43;01mif\u001b[39;49;00m\u001b[43m \u001b[49m\u001b[43mdone\u001b[49m\u001b[43m:\u001b[49m\n\u001b[1;32m   3151\u001b[0m \u001b[43m            \u001b[49m\u001b[43mshards_done\u001b[49m\u001b[43m \u001b[49m\u001b[38;5;241;43m+\u001b[39;49m\u001b[38;5;241;43m=\u001b[39;49m\u001b[43m \u001b[49m\u001b[38;5;241;43m1\u001b[39;49m\n",
      "File \u001b[0;32m~/.local/lib/python3.12/site-packages/datasets/utils/py_utils.py:718\u001b[0m, in \u001b[0;36miflatmap_unordered\u001b[0;34m(pool, func, kwargs_iterable)\u001b[0m\n\u001b[1;32m    715\u001b[0m \u001b[38;5;28;01mfinally\u001b[39;00m:\n\u001b[1;32m    716\u001b[0m     \u001b[38;5;28;01mif\u001b[39;00m \u001b[38;5;129;01mnot\u001b[39;00m pool_changed:\n\u001b[1;32m    717\u001b[0m         \u001b[38;5;66;03m# we get the result in case there's an error to raise\u001b[39;00m\n\u001b[0;32m--> 718\u001b[0m         [\u001b[43masync_result\u001b[49m\u001b[38;5;241;43m.\u001b[39;49m\u001b[43mget\u001b[49m\u001b[43m(\u001b[49m\u001b[43mtimeout\u001b[49m\u001b[38;5;241;43m=\u001b[39;49m\u001b[38;5;241;43m0.05\u001b[39;49m\u001b[43m)\u001b[49m \u001b[38;5;28;01mfor\u001b[39;00m async_result \u001b[38;5;129;01min\u001b[39;00m async_results]\n",
      "File \u001b[0;32m~/.local/lib/python3.12/site-packages/multiprocess/pool.py:774\u001b[0m, in \u001b[0;36mApplyResult.get\u001b[0;34m(self, timeout)\u001b[0m\n\u001b[1;32m    772\u001b[0m     \u001b[38;5;28;01mreturn\u001b[39;00m \u001b[38;5;28mself\u001b[39m\u001b[38;5;241m.\u001b[39m_value\n\u001b[1;32m    773\u001b[0m \u001b[38;5;28;01melse\u001b[39;00m:\n\u001b[0;32m--> 774\u001b[0m     \u001b[38;5;28;01mraise\u001b[39;00m \u001b[38;5;28mself\u001b[39m\u001b[38;5;241m.\u001b[39m_value\n",
      "\u001b[0;31mTypeError\u001b[0m: string indices must be integers, not 'str'"
     ]
    }
   ],
   "source": [
    "column_names = list(raw_datasets[\"train\"].features)\n",
    "raw_datasets = raw_datasets.map(apply_chat_template,\n",
    "                                num_proc=cpu_count(),\n",
    "                                fn_kwargs={\"tokenizer\": tokenizer},\n",
    "                                remove_columns=column_names,\n",
    "                                desc=\"Applying chat template\",)\n",
    "\n",
    "# create the splits\n",
    "train_dataset = raw_datasets[\"train\"]\n",
    "eval_dataset = raw_datasets[\"test\"]\n",
    "\n",
    "for index in random.sample(range(len(raw_datasets[\"train\"])), 3):\n",
    "  print(f\"Sample {index} of the processed training set:\\n\\n{raw_datasets['train'][index]['text']}\")"
   ]
  },
  {
   "cell_type": "code",
   "execution_count": null,
   "metadata": {},
   "outputs": [],
   "source": []
  }
 ],
 "metadata": {
  "kernelspec": {
   "display_name": "Python 3",
   "language": "python",
   "name": "python3"
  },
  "language_info": {
   "codemirror_mode": {
    "name": "ipython",
    "version": 3
   },
   "file_extension": ".py",
   "mimetype": "text/x-python",
   "name": "python",
   "nbconvert_exporter": "python",
   "pygments_lexer": "ipython3",
   "version": "3.12.3"
  }
 },
 "nbformat": 4,
 "nbformat_minor": 2
}
