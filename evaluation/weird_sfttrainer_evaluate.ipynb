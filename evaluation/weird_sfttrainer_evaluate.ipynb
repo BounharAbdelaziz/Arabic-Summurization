{
 "cells": [
  {
   "cell_type": "markdown",
   "metadata": {},
   "source": [
    "# Using SFTTrainer evaluate"
   ]
  },
  {
   "cell_type": "code",
   "execution_count": null,
   "metadata": {},
   "outputs": [
    {
     "name": "stderr",
     "output_type": "stream",
     "text": [
      "/home/infres/abounhar/.local/lib/python3.12/site-packages/tqdm/auto.py:21: TqdmWarning: IProgress not found. Please update jupyter and ipywidgets. See https://ipywidgets.readthedocs.io/en/stable/user_install.html\n",
      "  from .autonotebook import tqdm as notebook_tqdm\n",
      "[nltk_data] Downloading package wordnet to\n",
      "[nltk_data]     /home/infres/abounhar/nltk_data...\n",
      "[nltk_data]   Package wordnet is already up-to-date!\n",
      "[nltk_data] Downloading package punkt_tab to\n",
      "[nltk_data]     /home/infres/abounhar/nltk_data...\n",
      "[nltk_data]   Package punkt_tab is already up-to-date!\n",
      "[nltk_data] Downloading package omw-1.4 to\n",
      "[nltk_data]     /home/infres/abounhar/nltk_data...\n",
      "[nltk_data]   Package omw-1.4 is already up-to-date!\n",
      "/home/infres/abounhar/.local/lib/python3.12/site-packages/huggingface_hub/utils/_deprecation.py:100: FutureWarning: Deprecated argument(s) used in '__init__': dataset_text_field. Will not be supported from version '1.0.0'.\n",
      "\n",
      "Deprecated positional argument(s) used in SFTTrainer, please use the SFTConfig to set these arguments instead.\n",
      "  warnings.warn(message, FutureWarning)\n",
      "/home/infres/abounhar/.local/lib/python3.12/site-packages/trl/trainer/sft_trainer.py:292: UserWarning: You didn't pass a `max_seq_length` argument to the SFTTrainer, this will default to 1024\n",
      "  warnings.warn(\n",
      "/home/infres/abounhar/.local/lib/python3.12/site-packages/trl/trainer/sft_trainer.py:321: UserWarning: You passed a `dataset_text_field` argument to the SFTTrainer, the value you passed will override the one in the `SFTConfig`.\n",
      "  warnings.warn(\n",
      "/home/infres/abounhar/.local/lib/python3.12/site-packages/trl/trainer/sft_trainer.py:396: UserWarning: You passed a tokenizer with `padding_side` not equal to `right` to the SFTTrainer. This might lead to some unexpected behaviour due to overflow issues when training a model in half-precision. You might consider adding `tokenizer.padding_side = 'right'` to your code.\n",
      "  warnings.warn(\n",
      "/home/infres/abounhar/.local/lib/python3.12/site-packages/trl/trainer/sft_trainer.py:401: FutureWarning: `tokenizer` is deprecated and will be removed in version 5.0.0 for `SFTTrainer.__init__`. Use `processing_class` instead.\n",
      "  super().__init__(\n"
     ]
    }
   ],
   "source": [
    "from trl import SFTTrainer\n",
    "from transformers import TrainingArguments\n",
    "import torch\n",
    "from transformers import AutoModelForCausalLM, AutoTokenizer\n",
    "import torch\n",
    "import re\n",
    "from datasets import load_dataset, Dataset\n",
    "import pandas as pd\n",
    "import os\n",
    "from tqdm import tqdm\n",
    "from evaluate import load\n",
    "\n",
    "# Set CUDA device\n",
    "os.environ['CUDA_VISIBLE_DEVICES'] = \"1\"\n",
    "\n",
    "from evaluate import load\n",
    "\n",
    "\n",
    "# Load metrics\n",
    "rouge = load('rouge')\n",
    "bleu = load('bleu')\n",
    "meteor = load('meteor')\n",
    "bertscore = load('bertscore')\n",
    "\n",
    "MAX_LEN = 2048\n",
    "BATCH_SIZE=8\n",
    "# torch_dtype = torch.float32\n",
    "torch_dtype = torch.bfloat16\n",
    "\n",
    "model_path = \"BounharAbdelaziz/Qwen2.5-0.5B-Instruct-bs-2-lr-2e-05-ep-3-wp-0.1-gacc-16-gnm-1.0-FP16-SFT-mx-2048-v2\"\n",
    "DEFAULT_CHAT_TEMPLATE = \"{% for message in messages %}\\n{% if message['role'] == 'user' %}\\n{{ '<|user|>\\n' + message['content'] + eos_token }}\\n{% elif message['role'] == 'system' %}\\n{{ '<|system|>\\n' + message['content'] + eos_token }}\\n{% elif message['role'] == 'assistant' %}\\n{{ '<|assistant|>\\n'  + message['content'] + eos_token }}\\n{% endif %}\\n{% if loop.last and add_generation_prompt %}\\n{{ '<|assistant|>' }}\\n{% endif %}\\n{% endfor %}\"\n",
    "\n",
    "\n",
    "# Load dataset\n",
    "eval_dataset = load_dataset(\"BounharAbdelaziz/Arabic-Synthetic-Summarization-Dataset-Filtered\", split='validation')\n",
    "# eval_dataset = eval_dataset.select(range(10))\n",
    "\n",
    "# Summarize dataset\n",
    "\n",
    "# Load the model and tokenizer\n",
    "model = AutoModelForCausalLM.from_pretrained(model_path).eval()#, torch_dtype=torch_dtype)\n",
    "tokenizer = AutoTokenizer.from_pretrained(model_path)\n",
    "\n",
    "tokenizer.padding_side='left'\n",
    "# Set reasonable default for models without max length\n",
    "tokenizer.model_max_length = MAX_LEN\n",
    "\n",
    "# Set pad_token_id equal to the eos_token_id if not set\n",
    "if tokenizer.pad_token_id is None:\n",
    "    tokenizer.pad_token_id = tokenizer.eos_token_id\n",
    "    \n",
    "# Set chat template\n",
    "tokenizer.chat_template = DEFAULT_CHAT_TEMPLATE\n",
    "    \n",
    "def preprocess_logits_for_metrics(logits, labels):\n",
    "    \"\"\"\n",
    "    Original Trainer may have a memory leak. \n",
    "    This is a workaround to avoid storing too many tensors that are not needed. \n",
    "    Taken from https://discuss.huggingface.co/t/cuda-out-of-memory-when-using-trainer-with-compute-metrics/2941/22\n",
    "    \"\"\"\n",
    "    \n",
    "    # Handle tuple logits (happens when the model is trained using LoRA)\n",
    "    if isinstance(logits, tuple):\n",
    "        logits = logits[1]          # logits[0] is the loss value and logits[1] are the logits used to compute loss\n",
    "                                    # logits: (tensor(2.0426, device='cuda:0'), tensor([[[ 7.8750,  5.3750,  7.0938,  ..., -4.2500, -4.2500, -4.2500],\n",
    "                                    #          [ 5.0938,  5.0625,  7.3750,  ..., -1.5312, -1.5312, -1.5312],\n",
    "                                    #          [ 2.6562, -0.9609,  0.0728,  ..., -2.0312, -2.0312, -2.0312],\n",
    "                                    #          ...,\n",
    "                                    #          [ 4.1562,  1.4375, -3.6250,  ..., -2.1250, -2.1250, -2.1250],\n",
    "                                    #          [ 3.7344, -1.6641, -3.8125,  ..., -1.9688, -1.9688, -1.9688],\n",
    "                                    #          [ 8.1875, -1.2344, -1.6094,  ..., -3.0938, -3.0938, -3.0938]]],\n",
    "                                    #        device='cuda:0'))\n",
    "\n",
    "    # Proceed with argmax\n",
    "    pred_ids = torch.argmax(logits, dim=-1)\n",
    "\n",
    "    return pred_ids\n",
    "\n",
    "@torch.no_grad()\n",
    "def compute_metrics_causal_lm(eval_pred, tokenizer):\n",
    "    \"\"\"Compute ROUGE and BLEU scores for evaluation.\"\"\"\n",
    "    predictions, references = eval_pred\n",
    "\n",
    "    # Ensure predictions and references are in the correct format (list or numpy)\n",
    "    if isinstance(predictions, torch.Tensor):\n",
    "        predictions = predictions.cpu().numpy()\n",
    "    if isinstance(references, torch.Tensor):\n",
    "        references = references.cpu().numpy()\n",
    "\n",
    "    # Clip token IDs to the valid range\n",
    "    vocab_size = tokenizer.vocab_size\n",
    "\n",
    "    def clip_token_ids(token_ids):\n",
    "        \"\"\"Clip token IDs to the valid range [0, vocab_size - 1].\"\"\"\n",
    "        # Ensure token_ids is a list or array and clip each value\n",
    "        return [min(max(token_id, 0), vocab_size - 1) for token_id in token_ids]\n",
    "\n",
    "    # Decode predictions and references\n",
    "    decoded_preds = [\n",
    "        tokenizer.decode(clip_token_ids(pred), skip_special_tokens=True)\n",
    "        for pred in predictions\n",
    "    ]\n",
    "    decoded_refs = [\n",
    "        tokenizer.decode(clip_token_ids(ref), skip_special_tokens=True)\n",
    "        for ref in references\n",
    "    ]\n",
    "\n",
    "    # Print decoded examples to inspect issues\n",
    "    print(f'decoded_preds[0]: {decoded_preds[0]}')\n",
    "    print(f'decoded_refs[0]: {decoded_refs[0]}')\n",
    "\n",
    "    # If predictions are empty or contain only special tokens, report an issue\n",
    "    if not decoded_preds[0] or decoded_preds[0] == tokenizer.pad_token:\n",
    "        print(f\"[WARNING] Empty prediction detected for example: {decoded_preds[0]}\")\n",
    "\n",
    "    # Compute ROUGE scores\n",
    "    rouge_results = rouge.compute(\n",
    "        predictions=decoded_preds, \n",
    "        references=decoded_refs, \n",
    "        use_stemmer=True\n",
    "    )\n",
    "\n",
    "    # Compute BLEU score\n",
    "    bleu_results = bleu.compute(\n",
    "        predictions=decoded_preds, \n",
    "        references=decoded_refs\n",
    "    )\n",
    "\n",
    "    # Combine the results into a single dictionary\n",
    "    metrics = {key: rouge_results[key] * 100 for key in [\"rouge1\", \"rouge2\", \"rougeL\", \"rougeLsum\"]}\n",
    "    metrics[\"bleu\"] = bleu_results[\"bleu\"] * 100\n",
    "    \n",
    "    return metrics\n",
    "\n",
    "def create_conversation(example):\n",
    "    \"\"\"\n",
    "    Transform the dataset into a conversational format.\n",
    "    The user provides the text, and the assistant provides the summary.\n",
    "    \"\"\"\n",
    "    # Create a conversation with user and assistant roles\n",
    "    messages = [\n",
    "        {\"role\": \"user\", \"content\": example[\"text\"]},  # User provides the text\n",
    "    ]\n",
    "    # Return the conversation as a dictionary\n",
    "    return {\"messages\": messages}\n",
    "\n",
    "def apply_chat_template(example, tokenizer):\n",
    "    \"\"\" Apply the chat template to the dataset. \"\"\"\n",
    "    example[\"text\"] = tokenizer.apply_chat_template(example[\"messages\"], tokenize=False)\n",
    "    return example\n",
    "\n",
    "# Training arguments\n",
    "training_args = TrainingArguments(\n",
    "    output_dir=\"./o\",\n",
    "    per_device_eval_batch_size=BATCH_SIZE,\n",
    "    # bf16=True,\n",
    "    # fp16_full_eval=True,\n",
    "    gradient_checkpointing=True,\n",
    ")\n",
    "# Initialize Trainer\n",
    "trainer = SFTTrainer(\n",
    "    model=model,\n",
    "    tokenizer=tokenizer,\n",
    "    args=training_args,\n",
    "    train_dataset=eval_dataset,\n",
    "    eval_dataset=eval_dataset,\n",
    "    dataset_text_field=\"text\",\n",
    "    compute_metrics=lambda x : compute_metrics_causal_lm(x, tokenizer),\n",
    "    preprocess_logits_for_metrics=preprocess_logits_for_metrics,\n",
    ")\n",
    "\n",
    "# Transform the dataset into a conversational format\n",
    "eval_dataset = eval_dataset.map(create_conversation, remove_columns=[\"text\", \"summary\"])\n",
    "\n",
    "eval_dataset = eval_dataset.map(\n",
    "    apply_chat_template,\n",
    "    num_proc=os.cpu_count(),\n",
    "    fn_kwargs={\"tokenizer\": tokenizer},\n",
    "    remove_columns=[\"messages\"],\n",
    "    desc=\"Applying chat template...\"\n",
    ")"
   ]
  },
  {
   "cell_type": "code",
   "execution_count": 2,
   "metadata": {},
   "outputs": [
    {
     "data": {
      "text/plain": [
       "{'summary_model_name': 'Qwen/Qwen2.5-7B-Instruct-AWQ',\n",
       " 'tokenizer_name': 'Qwen/Qwen2.5-7B-Instruct-AWQ',\n",
       " 'dataset_source': 'Abdelkareem/wikihow-arabic-summarization',\n",
       " 'sequence_length': 969,\n",
       " 'text': '<|user|>\\nيوجد الكثير من الأساليب التي تتعدى ممارسة الجنس لتكوني قريبة من الطرف الآخر في العلاقات السليمة. يمكنك بناء الثقة والتقارب في العلاقة من خلال التحدث والاستماع والمشاركة واحترام أفكاركما ومن خلال الخروج معا والاستمتاع بصحبة بعضكما البعض. إذا حاول شريكك إخبارك بأن الجنس هو الطريقة الوحيدة التي يمكنكما التقارب بها، فقد تحتاجين إلى التفكير فيما إذا كانت هذه العلاقة هي ما تريدينه حقا. من الممتع أن تجلسي مع شريكك وتقوما بنشاطات غير جنسية. يعد اللعب بألعاب لوحية وسيلة رائعة لإراحة شريكك وتخفيف توتره دون الحاجة لممارسة الجنس. اجلسا بجانب بعضكما البعض واستندا على بعض الوسائد وتناوبا على القراءة. يمكنكما حتى اختيار الكتب بالتناوب. يعتمد قرب جلوسكما على درجة راحتك.  إذا كنت قلقة بشأن تطور الأمور، فحاولي أن تبتعدي قليلا. يمكنك الجلوس مثلا على طرف مقابل له مع تلامس قدميكما فقط. يمكنكما قراءة بعض القصص الرومانسية لبعضكما من أجل تشتيت الانتباه بعيدا عن الجنس (وربما كي تضحكا على مدى رداءة القصص). اجلسا معا واستمعا إلى ألبوم. ابحثي عن كلمات الأغاني واجلسي بالقرب من شريكك وتمتعي بقرب جسدكما. ولكن لا تفعلا أكثر من مشابكة أياديكما أو احتضان بعضكما. اكتبا استطلاعات رأي لبعضكما البعض أو اطبعا بعضا منها مسبقا من الإنترنت (ابحثا عن \"أسئلة ممتعة لشريكك\"). اجلسا على جانبين متقابلين وليجب كل منكما بالإجابة على استبيانه وحده، ثم تبادلا الاستبيانين بمجرد الانتهاء لقراءة الردود. حضرا بعض الوجبات الخفيفة والكثير من الوسائد لمشاهدة فيلم ما. إذا كنت قلقة من تحول الفيلم إلى جلسة حميمية، ضعي الوسائد بينك وبينه واستخدما بطانيتين منفصلتين. إذا لم تؤدي الوسائد والبطانيتين وظيفتهما، فلا بأس من سؤال شريكك إذا كان ينوي فعل شيء آخر يستدعي مقاومتك. حولي المكان الذي ستجلسان فيه إلى حصن. أضيفي بعض الأضواء والبطانيات الأنيقة ثم اجلسا في داخله وشاهدا فيلما أو اقرآ بعض القصص. قد يؤدي جلوسك بالقرب من شريكك إلى صعوبة في مقاومة تطور الأمر لأكثر من مجرد احتضان. إذا وجدت نفسك تفكرين في تجاوز حدودكما المحددة مسبقا، ابتعدي عن شريكك أو اقترحي الجلوس في مكان آخر.  إذا كنت قلقة من الإساءة إلى شريكك بابتعادك عنه، فيمكنك التذرع لرغبتك في الانتقال على سبيل المثال بحجة مثل: \"ظهري يؤلمني من الجلوس هنا، دعنا نجلس على أريكة أخرى\" أو \"أشعر ببعض الضيق، لنأخذ استراحة ونذهب للمشي!\" سوف يساعدك الخروج إلى الأماكن العامة على كبح رغباتك الجنسية. إذا تطورت بينكما الأمور لوضع مثير وشعرت بالسوء حيال الأمر، لا بأس في التوقف وقول إنك لا تشعرين بالراحة في الاستمرار. يجب أن يحترم شريكك رغباتك على الفور.  إذا حاول شريكك إقناعك بتجاوز الحدود التي وضعتها بشكل متكرر، فقد تحتاجين إلى التفكير في استمرار علاقتك معه. على الرغم من أنه من المقبول أن يسألك شريكك عن رأيك مرة أخرى بين الحين والآخر، إلا أنه لا ينبغي أن يشعرك بالسوء نحو قرارك.<|im_end|>\\n'}"
      ]
     },
     "execution_count": 2,
     "metadata": {},
     "output_type": "execute_result"
    }
   ],
   "source": [
    "eval_dataset[0]"
   ]
  },
  {
   "cell_type": "code",
   "execution_count": 3,
   "metadata": {},
   "outputs": [
    {
     "name": "stderr",
     "output_type": "stream",
     "text": [
      "Map: 100%|██████████| 437/437 [00:01<00:00, 296.04 examples/s]\n"
     ]
    }
   ],
   "source": [
    "def preprocess_function(examples):\n",
    "    return tokenizer(examples['text'], padding=True, truncation=True)\n",
    "\n",
    "eval_dataset = eval_dataset.map(preprocess_function, batched=True)"
   ]
  },
  {
   "cell_type": "code",
   "execution_count": 4,
   "metadata": {},
   "outputs": [
    {
     "data": {
      "text/plain": [
       "Dataset({\n",
       "    features: ['summary_model_name', 'tokenizer_name', 'dataset_source', 'sequence_length', 'text', 'input_ids', 'attention_mask'],\n",
       "    num_rows: 437\n",
       "})"
      ]
     },
     "execution_count": 4,
     "metadata": {},
     "output_type": "execute_result"
    }
   ],
   "source": [
    "eval_dataset"
   ]
  },
  {
   "cell_type": "code",
   "execution_count": 5,
   "metadata": {},
   "outputs": [
    {
     "data": {
      "text/html": [
       "\n",
       "    <div>\n",
       "      \n",
       "      <progress value='55' max='55' style='width:300px; height:20px; vertical-align: middle;'></progress>\n",
       "      [55/55 01:40]\n",
       "    </div>\n",
       "    "
      ],
      "text/plain": [
       "<IPython.core.display.HTML object>"
      ]
     },
     "metadata": {},
     "output_type": "display_data"
    },
    {
     "name": "stdout",
     "output_type": "stream",
     "text": [
      "decoded_preds[0]: <<<<<<<<<<<<<<<<<<<<<<<<<<<<<<<<<<<<<<<<<<<<<<<<<<<<BackBackBackBack<<UnderUnder<UnderUnder<BackUnderBackBackBackBackBackUnderUnderUnderUnder<Under<Back<<BackUnderUnderUnderBackBackBackUnderUnderUnderBackBackBackUnderUnderUnderUnderUnderUnderUnderUnderUnderUnderUnderUnderUnderUnderUnderUnderUnderUnderUnderUnderUnderUnderUnderUnderUnderBackUnderUnderUnderUnderUnderUnderUnderUnderUnderUnderUnderUnderUnderUnderUnderUnderUnderUnderUnderUnderUnderUnderUnderUnderUnderUnderUnderUnderUnderUnderUnderUnderUnderUnderUnderUnderUnderUnderUnderUnderUnderUnderUnderUnderUnderUnder<<UnderUnderUnderUnderUnderUnderUnderUnderUnderUnderUnderUnderUnderUnderUnderUnderUnderUnderUnderUnderUnder<UnderInternetUnderUnderUnderUnderUnderUnderUnderUnderUnderUnderUnderUnderUnderUnderUnderUnderUnderUnderUnderUnderUnderUnderUnderUnderUnderUnderUnderUnderUnderUnderUnderUnderUnderUnderUnderUnderUnderUnderUnderUnder authorisedUnderUnderUnderUnderUnderUnderUnderUnderUnderUnderUnderUnderUnderUnderUnderUnderUnderUnderUnderUnderUnderUnderUnderUnderUnderUnderUnderUnderUnderUnderUnderUnderUnderUnderUnderUnderUnderUnderUnderUnderUnderUnderUnderUnderUnderUnderUnderUnderUnderUnderUnderUnderUnderUnderUnderUnderUnderUnderUnderUnderUnderUnderUnderUnderUnderUnderUnderUnderUnderUnderUnderUnderUnderUnderUnderUnderUnderUnderUnderUnderUnderUnderUnderUnderUnderUnderUnderUnderUnderUnderUnderUnderUnderUnderUnderUnderUnderUnder<<UnderUnderUnderUnderUnder<UnderUnderUnderUnderUnderUnderUnderUnderUnderUnderUnderUnder UnderUnderUnderUnderUnderUnderUnderUnderUnderUnderUnderUnderUnderUnderUnderUnderUnderUnderUnderUnderUnderUnderUnderUnderUnderUnderUnderUnderUnderUnderUnderUnderUnderUnderUnderUnderUnderUnderUnderUnderUnderUnderUnderUnderUnder authorisedUnderUnderUnderUnderUnderUnderUnderUnderUnderUnderUnderUnder<UnderUnderUnderUnderUnderUnderUnderUnderUnderUnderUnderUnderUnderUnderUnderUnderUnderUnderUnderUnderUnderUnderUnderUnderUnderUnderUnderUnderUnderUnderUnderAuthorUnderUnderUnderUnderUnderUnderUnderUnder authorisedUnderUnderUnderUnderUnderUnderUnderUnderUnderUnderUnderUnderUnderUnderUnderUnderUnderUnderUnderUnderUnderUnderUnderUnder<AuthorAuthorUnderUnderUnderUnderUnderUnderUnderUnderUnderUnderUnderUnderUnderUnderUnderUnderUnderUnderUnderUnderUnderAuthor<Under<<UnderUnder<UnderUnder<<<Under<<<<Under<Under<<<<<Under<<<<<<Under<<<<<<<<<<<<<<<Under<<<<<<<<<<<<<Under<<<<<<<<<<<<<<<<<<<<<<<<<<<<<<<<<<<<<<<<<<<<<<<<<<<<<<<<<<<<<<<<<<<<<<<<<<<<<<<<<<<<<<<<<<<<<<<<<<<<<<<<<<<<<<<<<<<<<<<<<<<<<<<<<<<<<<<<<<<<<<<<<<<<<<<<<<<<<<<<<<<<<<<<<<<<<<<<<<<<<<<<<<<<<<<<<<<<<<<<<<<<<<<<<<<<<<<<<<<<<<<<<<<<<<<<<<<<<<<<<<<<<<<<<<<<<<<<<<<<<<<<<<<<<<<<<<<<<<<<<<<<<<<<<<<<<<<<<<<<<<<<<<<<<<<<<<<<<<<<<<<<<<<<<<<<<<<<<<<<<<<<<<<<<<<<<<<<<<<<<<<<<<<<<<<<<<<<<<<<<<<<<<<<<<<<<<<<<<<<<<<<<<<<<<<<<<<<<<<<<<<<<<<<<<<<<<<<<<<<<<<<<<<<<<<<<<<<<<<<<<<<<<<<<<<<<<<<<<<<<<<<<<<<<<<<<<<<<<<<<<<<<<<<<|user|>\n",
      "يجب العديد من الأاليب التي تطلبى حدحدودسة الت لوف م مة من شخصطرف الآخر، العلاقات،رمة،  أناء علاقةقة والواصل بين العلاقات إذا خلال تحدث معماع إلىتحدث فيتبادلترام الآكاره..اق تروج للعا فيمتاع ببعبة بعضكما البعض.  كنتاولتعك أنظهبار بك ليس أمرريقة الوحيدة ل ت أن مقرب،، ف يين إلى توقفير في إذا كان هذه هي س التي تريدينك.ا.  المهمتع أن تشعرب لل شريكك فيكونين بعملات مختلفة الجنسنسية، يمكنك هذاعب علىسي العبية أوريلة جائعة لظه النفسريكك وخفيف الضوترك. أنة لمارسة الجنس. يمكنكحرص في علىجانبه شكما البعض ومجد إلى أكسائد أوقمق و بعضفةة أو إذا أيضا أيضا أن متب التيطبعوب على إذاساعد هذادركنسسكما على نوعجة التاحةتكما إذا إذا كنت تادبي أو قج العلاقةور، فحاولولي أن تجلسقيدي عنليلا عن إذامالوس بعالا ب الأرضاكة و تقلسكدميكما.. إذا أيضا أنضاءة كتاب الكصص الممانسية أوكيضكما البعض أجل تجت اانتباه عنا عن الجنس.مثلغمما تتب تشعرمن بعض بعض بعض رغك الصةص). إذاجلسا بعا علىنا ل بعضصوما يمكنكجلسا عن أات جغنية التيحاولعلسي معلغ من شريكك.اني بمشاهدةكلوكما. يمكنك ا تقملي عن من ذلكاههة الأ كلمك.. ترفانككما البعض إذاجلسسب بعضراحةلاعات الرأي وبعضكما البعض و اكتبي بعضعضا من وعاقا. أجل.أدثي عن الأاستاليلة حولفتعة للاريكك\"). ابدأا م ط واحد معااطلين وانستان جانبكما علىصابة على الأطك.احول. و احدثاعلي الأمات.فرد أنانتهاء.كية الأود. اري م الأاحبات المفيفة.مشع من الطعامصفائد.لا الفلم أو. ا كنت تلقة بشأن التملكرم إلى جلسة جميمةية، فع فيسائد علىكما ش ومما أاقات ل الأتين. يمكنك كنت تكندي هذهسائد جبطانيات جقيفتكما، ف تأس. تحبال شريكك عن ما يرغبوي أن ذلك ما.خدمعي ذلكاومةته. إذاي بعضكان الذي تكونين فيه. مكانمام م يمكنكنتي بعض الأشيواء والكمانيات والحقة ل اجلسان م مكان المماابدي علىلمما. اجلسئ في الأصص. إذا ت ذلكلوسكماقرب من شريكك إلى تعوبة في التاومة الج العلاقة.ي من مجرد جرضانه إذا كنتاجت أنك تشعررين في أنجوز هذاودك،،عتدة،هماقا، فبدأقيدي ق ذلكريكك و انتفي بعضلوس م مكان آخر. إذا إذا كنت تلقة بشأن تجة لل شريكك،جتعادك عنه، فمكنكمافكع بقولتك في أناح إلى نحو المثال إلىوضعث أن \" \"أري معذيمني أن أنلوس م\". فعنا نذهب في طرضكة في\". أو \"أعر بالحض التيق عند أ أ بعضراحة فينجلس إلىطب\". إذا يساعدك ذلكروج م مكانريكن الأخرى على تسر الغبكماية. إذا كنتحدثت العلاقةكما رور التيدرجة حدث للمرت بالض،يال ذلك، ف تأس من التحدث عنتج \"ك لا ترغبرين بالراحة في هذهمتار في إذا أن تشعرترم شريكك كلغبك الجنس الإ. إذا إذا كنتاولتريكك إخاعك بالضرورة حددود، تضعتها، واضحعمر، ف تين إلى التفكير في مابدار العلاقةلاقتكماه. إذا سبيل من أن لا الممكن أن تحألك شريكك عن رغيه في أو، الأين والآخر، إلا أن من يجب أن تحاولك بالقلق حهدرك. إذا\n",
      "<\n",
      "decoded_refs[0]: !!!!!!!!!!!!!!!!!!!!!!!!!!!!!!!!!!!!!!!!!!!!!!!!!!!!!!!!!!!!!!!!!!!!!!!!!!!!!!!!!!!!!!!!!!!!!!!!!!!!!!!!!!!!!!!!!!!!!!!!!!!!!!!!!!!!!!!!!!!!!!!!!!!!!!!!!!!!!!!!!!!!!!!!!!!!!!!!!!!!!!!!!!!!!!!!!!!!!!!!!!!!!!!!!!!!!!!!!!!!!!!!!!!!!!!!!!!!!!!!!!!!!!!!!!!!!!!!!!!!!!!!!!!!!!!!!!!!!!!!!!!!!!!!!!!!!!!!!!!!!!!!!!!!!!!!!!!!!!!!!!!!!!!!!!!!!!!!!!!!!!!!!!!!!!!!!!!!!!!!!!!!!!!!!!!!!!!!!!!!!!!!!!!!!!!!!!!!!!!!!!!!!!!!!!!!!!!!!!!!!!!!!!!!!!!!!!!!!!!!!!!!!!!!!!!!!!!!!!!!!!!!!!!!!!!!!!!!!!!!!!!!!!!!!!!!!!!!!!!!!!!!!!!!!!!!!!!!!!!!!!!!!!!!!!!!!!!!!!!!!!!!!!!!!!!!!!!!!!!!!!!!!!!!!!!!!!!!!!!!!!!!!!!!!!!!!!!!!!!!!!!!!!!!!!!!!!!!!!!!!!!!!!!!!!!!!!!!!!!!!!!!!!!!!!!!!!!!!!!!!!!!!!!!!!!!!!!!!!!!!!!!!!!!!!!!!!!!!!!!!!!!!!!!!!!!!!!!!!!!!!!!!!!!!!!!!!!!!!!!!!!!!!!!!!!!!!!!!!!!!!!!!!!!!!!!!!!!!!!!!!!!!!!!!!!!!!!!!!!!!!!!!!!!!!!!!!!!!!!!!!!!!!!!!!!!!!!!!!!!!!!!!!!!!!!!!!!!!!!!!!!!!!!!!!!!!!!!!!!!!!!!!!!!!!!!!!!!!!!!!!!!!!!!!!!!!!!!!!!!!!!!!!!!!!!!!!!!!!!!!!!!!!!!!!!!!!!!!!!!!!!!!!!!!!!!!!!!!!!!!!!!!!!!!!!!!!!!!!!!!!!!!!!!!!!!!!!!!!!!!!!!!!!!!!!!!!!!!!!!!!!!!!!!!!!!!!!!!!!!!!!!!!!!!!!!<|user|>\n",
      "يوجد الكثير من الأساليب التي تتعدى ممارسة الجنس لتكوني قريبة من الطرف الآخر في العلاقات السليمة. يمكنك بناء الثقة والتقارب في العلاقة من خلال التحدث والاستماع والمشاركة واحترام أفكاركما ومن خلال الخروج معا والاستمتاع بصحبة بعضكما البعض. إذا حاول شريكك إخبارك بأن الجنس هو الطريقة الوحيدة التي يمكنكما التقارب بها، فقد تحتاجين إلى التفكير فيما إذا كانت هذه العلاقة هي ما تريدينه حقا. من الممتع أن تجلسي مع شريكك وتقوما بنشاطات غير جنسية. يعد اللعب بألعاب لوحية وسيلة رائعة لإراحة شريكك وتخفيف توتره دون الحاجة لممارسة الجنس. اجلسا بجانب بعضكما البعض واستندا على بعض الوسائد وتناوبا على القراءة. يمكنكما حتى اختيار الكتب بالتناوب. يعتمد قرب جلوسكما على درجة راحتك.  إذا كنت قلقة بشأن تطور الأمور، فحاولي أن تبتعدي قليلا. يمكنك الجلوس مثلا على طرف مقابل له مع تلامس قدميكما فقط. يمكنكما قراءة بعض القصص الرومانسية لبعضكما من أجل تشتيت الانتباه بعيدا عن الجنس (وربما كي تضحكا على مدى رداءة القصص). اجلسا معا واستمعا إلى ألبوم. ابحثي عن كلمات الأغاني واجلسي بالقرب من شريكك وتمتعي بقرب جسدكما. ولكن لا تفعلا أكثر من مشابكة أياديكما أو احتضان بعضكما. اكتبا استطلاعات رأي لبعضكما البعض أو اطبعا بعضا منها مسبقا من الإنترنت (ابحثا عن \"أسئلة ممتعة لشريكك\"). اجلسا على جانبين متقابلين وليجب كل منكما بالإجابة على استبيانه وحده، ثم تبادلا الاستبيانين بمجرد الانتهاء لقراءة الردود. حضرا بعض الوجبات الخفيفة والكثير من الوسائد لمشاهدة فيلم ما. إذا كنت قلقة من تحول الفيلم إلى جلسة حميمية، ضعي الوسائد بينك وبينه واستخدما بطانيتين منفصلتين. إذا لم تؤدي الوسائد والبطانيتين وظيفتهما، فلا بأس من سؤال شريكك إذا كان ينوي فعل شيء آخر يستدعي مقاومتك. حولي المكان الذي ستجلسان فيه إلى حصن. أضيفي بعض الأضواء والبطانيات الأنيقة ثم اجلسا في داخله وشاهدا فيلما أو اقرآ بعض القصص. قد يؤدي جلوسك بالقرب من شريكك إلى صعوبة في مقاومة تطور الأمر لأكثر من مجرد احتضان. إذا وجدت نفسك تفكرين في تجاوز حدودكما المحددة مسبقا، ابتعدي عن شريكك أو اقترحي الجلوس في مكان آخر.  إذا كنت قلقة من الإساءة إلى شريكك بابتعادك عنه، فيمكنك التذرع لرغبتك في الانتقال على سبيل المثال بحجة مثل: \"ظهري يؤلمني من الجلوس هنا، دعنا نجلس على أريكة أخرى\" أو \"أشعر ببعض الضيق، لنأخذ استراحة ونذهب للمشي!\" سوف يساعدك الخروج إلى الأماكن العامة على كبح رغباتك الجنسية. إذا تطورت بينكما الأمور لوضع مثير وشعرت بالسوء حيال الأمر، لا بأس في التوقف وقول إنك لا تشعرين بالراحة في الاستمرار. يجب أن يحترم شريكك رغباتك على الفور.  إذا حاول شريكك إقناعك بتجاوز الحدود التي وضعتها بشكل متكرر، فقد تحتاجين إلى التفكير في استمرار علاقتك معه. على الرغم من أنه من المقبول أن يسألك شريكك عن رأيك مرة أخرى بين الحين والآخر، إلا أنه لا ينبغي أن يشعرك بالسوء نحو قرارك.⽗\n",
      "\n"
     ]
    },
    {
     "name": "stderr",
     "output_type": "stream",
     "text": [
      "\u001b[34m\u001b[1mwandb\u001b[0m: \u001b[33mWARNING\u001b[0m The `run_name` is currently set to the same value as `TrainingArguments.output_dir`. If this was not intended, please specify a different run name by setting the `TrainingArguments.run_name` parameter.\n",
      "\u001b[34m\u001b[1mwandb\u001b[0m: Currently logged in as: \u001b[33mabdelazizbounhar\u001b[0m. Use \u001b[1m`wandb login --relogin`\u001b[0m to force relogin\n",
      "\u001b[34m\u001b[1mwandb\u001b[0m: Using wandb-core as the SDK backend.  Please refer to https://wandb.me/wandb-core for more information.\n"
     ]
    },
    {
     "data": {
      "text/html": [
       "Tracking run with wandb version 0.19.3"
      ],
      "text/plain": [
       "<IPython.core.display.HTML object>"
      ]
     },
     "metadata": {},
     "output_type": "display_data"
    },
    {
     "data": {
      "text/html": [
       "Run data is saved locally in <code>/home/infres/abounhar/mbzuai/evaluation/wandb/run-20250127_232700-uq5ms2mu</code>"
      ],
      "text/plain": [
       "<IPython.core.display.HTML object>"
      ]
     },
     "metadata": {},
     "output_type": "display_data"
    },
    {
     "data": {
      "text/html": [
       "Syncing run <strong><a href='https://wandb.ai/abdelazizbounhar/huggingface/runs/uq5ms2mu' target=\"_blank\">./o</a></strong> to <a href='https://wandb.ai/abdelazizbounhar/huggingface' target=\"_blank\">Weights & Biases</a> (<a href='https://wandb.me/developer-guide' target=\"_blank\">docs</a>)<br>"
      ],
      "text/plain": [
       "<IPython.core.display.HTML object>"
      ]
     },
     "metadata": {},
     "output_type": "display_data"
    },
    {
     "data": {
      "text/html": [
       " View project at <a href='https://wandb.ai/abdelazizbounhar/huggingface' target=\"_blank\">https://wandb.ai/abdelazizbounhar/huggingface</a>"
      ],
      "text/plain": [
       "<IPython.core.display.HTML object>"
      ]
     },
     "metadata": {},
     "output_type": "display_data"
    },
    {
     "data": {
      "text/html": [
       " View run at <a href='https://wandb.ai/abdelazizbounhar/huggingface/runs/uq5ms2mu' target=\"_blank\">https://wandb.ai/abdelazizbounhar/huggingface/runs/uq5ms2mu</a>"
      ],
      "text/plain": [
       "<IPython.core.display.HTML object>"
      ]
     },
     "metadata": {},
     "output_type": "display_data"
    },
    {
     "name": "stdout",
     "output_type": "stream",
     "text": [
      "[INFO] Results on test set: {'eval_loss': 2.5254828929901123, 'eval_model_preparation_time': 0.0047, 'eval_rouge1': 31.289077212390936, 'eval_rouge2': 7.000054785325904, 'eval_rougeL': 30.247449942567627, 'eval_rougeLsum': 30.559380081566523, 'eval_bleu': 2.8362468634132427, 'eval_runtime': 119.0566, 'eval_samples_per_second': 3.671, 'eval_steps_per_second': 0.462}\n"
     ]
    }
   ],
   "source": [
    "# Evaluate on test set\n",
    "test_results = trainer.evaluate(eval_dataset)\n",
    "print(f'[INFO] Results on test set: {test_results}')"
   ]
  },
  {
   "cell_type": "code",
   "execution_count": 12,
   "metadata": {},
   "outputs": [
    {
     "data": {
      "text/html": [
       "\n",
       "    <div>\n",
       "      \n",
       "      <progress value='55' max='55' style='width:300px; height:20px; vertical-align: middle;'></progress>\n",
       "      [55/55 01:39]\n",
       "    </div>\n",
       "    "
      ],
      "text/plain": [
       "<IPython.core.display.HTML object>"
      ]
     },
     "metadata": {},
     "output_type": "display_data"
    },
    {
     "name": "stdout",
     "output_type": "stream",
     "text": [
      "decoded_preds[0]: <<<<<<<<<<<<<<<<<<<<<<<<<<UnderUnderUnder<<UnderUnderUnderUnderUnderUnderUnderUnderUnderUnderUnderUnderUnderUnderUnderUnderUnderUnderUnderUnderUnderUnderUnderUnder<UnderUnderUnderUnderUnderUnderUnderUnderUnderUnderUnderUnderUnderUnderUnderUnderUnderUnderUnderUnderUnderUnderUnderUnderUnderUnderUnderUnderUnderUnderUnderUnderUnderUnderUnderUnderUnderUnderUnderUnder<UnderUnderUnderUnderUnderUnderUnderUnderUnderUnderUnderUnderUnderUnderUnderUnderUnderUnderUnder<UnderUnder<<UnderUnderUnder<UnderUnderUnderUnder<UnderUnderUnderUnder<<<<<<<<<<<<<<<<<<Under<<<UnderUnder<<<Under<<<<<<<<<<<Under<Under<<<<<Under<<Under<<<<<<UnderUnder<<<<<UnderUnderUnder<<<Under<<<<UnderUnderUnderUnderUnderUnder<<UnderUnderUnderUnderUnderUnder<UnderUnderUnderUnderUnderUnderUnderUnderUnderUnderUnderUnderUnderUnderUnderUnderUnderUnder<<UnderUnderUnderUnderUnderUnderUnderUnderUnderUnderUnderUnderUnderAndroid<<UnderUnderUnder<UnderUnderUnderUnderUnderUnder<UnderUnder<UnderUnder<UnderUnderUnderUnderUnderAuthorUnderAuthorUnderUnderAuthorAuthor<UnderUnderUnderCommentsCommentsAuthorUnderUnderUnderAuthorUnderCommentsUnderUnderAuthorCommentsCommentsUnderUnderCommentsAuthorUnderCommentsAuthorCommentsUnderCommentsCommentsCommentsCommentsCommentsCommentsCommentsCommentsCommentsCommentsComments<UnderUnderUnderCommentsComments<<CommentsCommentsComments<<<CommentsComments<<<<<<<Under<<<AuthorComments<<<<<<Comments<<<<<<<<<<<<<<<<<<<<<<<<<<<<<<<<<<<<<<<<<<<<<<<<<<<<<<<<<<<<<<<<<<<<<<<<<<<<<<<<<<<<<<<<<<<<<<<<<<<<<<<<<<<<<<<<<<<<<<<<<<<<<<<<<<<<<<<<<<<<<<<<<<<<<<<<<<<<<<<<<<<<<<<<<<<<<<<<<<<<<<<<<<<<<<<<<<<<<<<<<<<<<<<<<<<<<<<<<<<<<<<<<<<<<<<<<<<<<<<<<<<<<<<<<<<<<<<<<<<<<<<<<<<<<<<<<<<<<<<<<<<<<<<<<<<<<<<<<<<<<<<<<<<<<<<<<<<<<<<<<<<<<<<<<<<<<<<<<<<<<<<<<<<<<<<<<<<<<<<<<<<<<<<<<<<<<<<<<<<<<<<<<<<<<<<<<<<<<<<<<<<<<<<<<<<<<<<<<<<<<<<<<<<<<<<<<<<<<<<<<<<<<<<<<<<<<<<<<<<<<<<<<<<<<<<<<<<<<<<<<<<<<<<<<<<<<<<<<<<<<<<<<<<<<<<<<<<<<<<<<<<<<<<<<<<<<<<<<<<<<<<<<<<<<<<<<<<<<<<<<<<<<<<<<<<<<|user|>\n",
      "يجب العديد من الأاليب التي تطلبى حدحدودسة الت لوف م مة من شخصطرف الآخر، العلاقات،رمة،  أناء علاقةقة والواصل بين العلاقات إذا خلال تحدث معماع إلىتحدث فيتبادلترام الآكاره..اق تروج للعا فيمتاع ببعبة بعضكما البعض.  كنتاولتعك أنظهبار بك ليس أمرريقة الوحيدة ل ت أن مقرب،، ف يين إلى توقفير في إذا كان هذه هي س التي تريدينك.ا.  المهمتع أن تشعرب لل شريكك فيكونين بعملات مختلفة الجنسنسية، يمكنك هذاعب علىسي العبية أوريلة جائعة لظه النفسريكك وخفيف الضوترك. أنة لمارسة الجنس. يمكنكحرص في علىجانبه شكما البعض ومجد إلى أكسائد أوقمق و بعضفةة أو إذا أيضا أيضا أن متب التيطبعوب على إذاساعد هذادركنسسكما على نوعجة التاحةتكما إذا إذا كنت تادبي أو قج العلاقةور، فحاولولي أن تجلسقيدي عنليلا عن إذامالوس بعالا ب الأرضاكة و تقلسكدميكما.. إذا أيضا أنضاءة كتاب الكصص الممانسية أوكيضكما البعض أجل تجت اانتباه عنا عن الجنس.مثلغمما تتب تشعرمن بعض بعض بعض رغك الصةص). إذاجلسا بعا علىنا ل بعضصوما يمكنكجلسا عن أات جغنية التيحاولعلسي معلغ من شريكك.اني بمشاهدةكلوكما. يمكنك ا تقملي عن من ذلكاههة الأ كلمك.. ترفانككما البعض إذاجلسسب بعضراحةلاعات الرأي وبعضكما البعض و اكتبي بعضعضا من وعاقا. أجل.أدثي عن الأاستاليلة حولفتعة للاريكك\"). ابدأا م ط واحد معااطلين وانستان جانبكما علىصابة على الأطك.احول. و احدثاعلي الأمات.فرد أنانتهاء.كية الأود. اري م الأاحبات المفيفة.مشع من الطعامصفائد.لا الفلم أو. ا كنت تلقة بشأن التملكرم إلى جلسة جميمةية، فع فيسائد علىكما ش ومما أاقات ل الأتين. يمكنك كنت تكندي هذهسائد جبطانيات جقيفتكما، ف تأس. تحبال شريكك عن ما يرغبوي أن ذلك ما.خدمعي ذلكاومةته. إذاي بعضكان الذي تكونين فيه. مكانمام م يمكنكنتي بعض الأشيواء والكمانيات والحقة ل اجلسان م مكان المماابدي علىلمما. اجلسئ في الأصص. إذا ت ذلكلوسكماقرب من شريكك إلى تعوبة في التاومة الج العلاقة.ي من مجرد جرضانه إذا كنتاجت أنك تشعررين في أنجوز هذاودك،،عتدة،هماقا، فبدأقيدي ق ذلكريكك و انتفي بعضلوس م مكان آخر. إذا إذا كنت تلقة بشأن تجة لل شريكك،جتعادك عنه، فمكنكمافكع بقولتك في أناح إلى نحو المثال إلىوضعث أن \" \"أري معذيمني أن أنلوس م\". فعنا نذهب في طرضكة في\". أو \"أعر بالحض التيق عند أ أ بعضراحة فينجلس إلىطب\". إذا يساعدك ذلكروج م مكانريكن الأخرى على تسر الغبكماية. إذا كنتحدثت العلاقةكما رور التيدرجة حدث للمرت بالض،يال ذلك، ف تأس من التحدث عنتج \"ك لا ترغبرين بالراحة في هذهمتار في إذا أن تشعرترم شريكك كلغبك الجنس الإ. إذا إذا كنتاولتريكك إخاعك بالضرورة حددود، تضعتها، واضحعمر، ف تين إلى التفكير في مابدار العلاقةلاقتكماه. إذا سبيل من أن لا الممكن أن تحألك شريكك عن رغيه في أو، الأين والآخر، إلا أن من يجب أن تحاولك بالقلق حهدرك. إذا\n",
      "<|assistant|>\n",
      "ي العلاقات السليمة، يمكن بناء الثقة والتقارب من خلال التحدث والاستماع والمشاركة واحترام أفكاركما. إذا أن الأشاطات غير جنسية مثل اللعب وألعاب لوحية و القراءة لث. است الاست الاستضاء استطلاعات رأي ل مشابدة فيلم ل شسائد.ضواء. إذا كنتعرت بالقلق، يمكنكبحثتعدي عنليلاً ابي استلا ما مااح الكان. إذا أن يحترم شريكك رغباتك وينعرك بالراحة.⽗\n",
      "<\n",
      "decoded_refs[0]: !!!!!!!!!!!!!!!!!!!!!!!!!!!!!!!!!!!!!!!!!!!!!!!!!!!!!!!!!!!!!!!!!!!!!!!!!!!!!!!!!!!!!!!!!!!!!!!!!!!!!!!!!!!!!!!!!!!!!!!!!!!!!!!!!!!!!!!!!!!!!!!!!!!!!!!!!!!!!!!!!!!!!!!!!!!!!!!!!!!!!!!!!!!!!!!!!!!!!!!!!!!!!!!!!!!!!!!!!!!!!!!!!!!!!!!!!!!!!!!!!!!!!!!!!!!!!!!!!!!!!!!!!!!!!!!!!!!!!!!!!!!!!!!!!!!!!!!!!!!!!!!!!!!!!!!!!!!!!!!!!!!!!!!!!!!!!!!!!!!!!!!!!!!!!!!!!!!!!!!!!!!!!!!!!!!!!!!!!!!!!!!!!!!!!!!!!!!!!!!!!!!!!!!!!!!!!!!!!!!!!!!!!!!!!!!!!!!!!!!!!!!!!!!!!!!!!!!!!!!!!!!!!!!!!!!!!!!!!!!!!!!!!!!!!!!!!!!!!!!!!!!!!!!!!!!!!!!!!!!!!!!!!!!!!!!!!!!!!!!!!!!!!!!!!!!!!!!!!!!!!!!!!!!!!!!!!!!!!!!!!!!!!!!!!!!!!!!!!!!!!!!!!!!!!!!!!!!!!!!!!!!!!!!!!!!!!!!!!!!!!!!!!!!!!!!!!!!!!!!!!!!!!!!!!!!!!!!!!!!!!!!!!!!!!!!!!!!!!!!!!!!!!!!!!!!!!!!!!!!!!!!!!!!!!!!!!!!!!!!!!!!!!!!!!!!!!!!!!!!!!!!!!!!!!!!!!!!!!!!!!!!!!!!!!!!!!!!!!!!!!!!!!!!!!!!!!!!!!!!!!!!!!!!!!!!!!!!!!!!!!!!!!!!!!!!!!!!!!!!!!!!!!!!!!!!!!!!!!!!!!!!!!!!!!!!!!!!!!!!!!!!!!!!!!!!!!!!!!!!!!!!!!!!!!!!!!!!!<|user|>\n",
      "يوجد الكثير من الأساليب التي تتعدى ممارسة الجنس لتكوني قريبة من الطرف الآخر في العلاقات السليمة. يمكنك بناء الثقة والتقارب في العلاقة من خلال التحدث والاستماع والمشاركة واحترام أفكاركما ومن خلال الخروج معا والاستمتاع بصحبة بعضكما البعض. إذا حاول شريكك إخبارك بأن الجنس هو الطريقة الوحيدة التي يمكنكما التقارب بها، فقد تحتاجين إلى التفكير فيما إذا كانت هذه العلاقة هي ما تريدينه حقا. من الممتع أن تجلسي مع شريكك وتقوما بنشاطات غير جنسية. يعد اللعب بألعاب لوحية وسيلة رائعة لإراحة شريكك وتخفيف توتره دون الحاجة لممارسة الجنس. اجلسا بجانب بعضكما البعض واستندا على بعض الوسائد وتناوبا على القراءة. يمكنكما حتى اختيار الكتب بالتناوب. يعتمد قرب جلوسكما على درجة راحتك.  إذا كنت قلقة بشأن تطور الأمور، فحاولي أن تبتعدي قليلا. يمكنك الجلوس مثلا على طرف مقابل له مع تلامس قدميكما فقط. يمكنكما قراءة بعض القصص الرومانسية لبعضكما من أجل تشتيت الانتباه بعيدا عن الجنس (وربما كي تضحكا على مدى رداءة القصص). اجلسا معا واستمعا إلى ألبوم. ابحثي عن كلمات الأغاني واجلسي بالقرب من شريكك وتمتعي بقرب جسدكما. ولكن لا تفعلا أكثر من مشابكة أياديكما أو احتضان بعضكما. اكتبا استطلاعات رأي لبعضكما البعض أو اطبعا بعضا منها مسبقا من الإنترنت (ابحثا عن \"أسئلة ممتعة لشريكك\"). اجلسا على جانبين متقابلين وليجب كل منكما بالإجابة على استبيانه وحده، ثم تبادلا الاستبيانين بمجرد الانتهاء لقراءة الردود. حضرا بعض الوجبات الخفيفة والكثير من الوسائد لمشاهدة فيلم ما. إذا كنت قلقة من تحول الفيلم إلى جلسة حميمية، ضعي الوسائد بينك وبينه واستخدما بطانيتين منفصلتين. إذا لم تؤدي الوسائد والبطانيتين وظيفتهما، فلا بأس من سؤال شريكك إذا كان ينوي فعل شيء آخر يستدعي مقاومتك. حولي المكان الذي ستجلسان فيه إلى حصن. أضيفي بعض الأضواء والبطانيات الأنيقة ثم اجلسا في داخله وشاهدا فيلما أو اقرآ بعض القصص. قد يؤدي جلوسك بالقرب من شريكك إلى صعوبة في مقاومة تطور الأمر لأكثر من مجرد احتضان. إذا وجدت نفسك تفكرين في تجاوز حدودكما المحددة مسبقا، ابتعدي عن شريكك أو اقترحي الجلوس في مكان آخر.  إذا كنت قلقة من الإساءة إلى شريكك بابتعادك عنه، فيمكنك التذرع لرغبتك في الانتقال على سبيل المثال بحجة مثل: \"ظهري يؤلمني من الجلوس هنا، دعنا نجلس على أريكة أخرى\" أو \"أشعر ببعض الضيق، لنأخذ استراحة ونذهب للمشي!\" سوف يساعدك الخروج إلى الأماكن العامة على كبح رغباتك الجنسية. إذا تطورت بينكما الأمور لوضع مثير وشعرت بالسوء حيال الأمر، لا بأس في التوقف وقول إنك لا تشعرين بالراحة في الاستمرار. يجب أن يحترم شريكك رغباتك على الفور.  إذا حاول شريكك إقناعك بتجاوز الحدود التي وضعتها بشكل متكرر، فقد تحتاجين إلى التفكير في استمرار علاقتك معه. على الرغم من أنه من المقبول أن يسألك شريكك عن رأيك مرة أخرى بين الحين والآخر، إلا أنه لا ينبغي أن يشعرك بالسوء نحو قرارك.⽗\n",
      "<|assistant|>\n",
      "في العلاقات السليمة، يمكنك بناء الثقة والتقارب من خلال التحدث والاستماع والمشاركة واحترام أفكاركما. يمكن استخدام نشاطات غير جنسية مثل اللعب بألعاب لوحية أو القراءة معا. يمكنك أيضا إجراء استطلاعات رأي أو مشاهدة فيلم مع وسائد وأضواء. إذا شعرت بالقلق، ابتعدي قليلا أو تقدمي لسببًا لنقل المكان. يجب أن يحترم شريكك رغباتك ويشعرك بالراحة.⽗\n",
      "\n",
      "[INFO] Results on test set: {'eval_loss': 2.424804210662842, 'eval_model_preparation_time': 0.0045, 'eval_rouge1': 46.02452856448509, 'eval_rouge2': 23.294153509190078, 'eval_rougeL': 45.01826951886451, 'eval_rougeLsum': 45.47110320946351, 'eval_bleu': 3.9643125058432913, 'eval_runtime': 115.9365, 'eval_samples_per_second': 3.769, 'eval_steps_per_second': 0.474}\n"
     ]
    }
   ],
   "source": [
    "# Evaluate on test set\n",
    "test_results = trainer.evaluate(eval_dataset)\n",
    "print(f'[INFO] Results on test set: {test_results}')"
   ]
  },
  {
   "cell_type": "code",
   "execution_count": 6,
   "metadata": {},
   "outputs": [
    {
     "data": {
      "text/html": [
       "\n",
       "    <div>\n",
       "      \n",
       "      <progress value='55' max='55' style='width:300px; height:20px; vertical-align: middle;'></progress>\n",
       "      [55/55 00:24]\n",
       "    </div>\n",
       "    "
      ],
      "text/plain": [
       "<IPython.core.display.HTML object>"
      ]
     },
     "metadata": {},
     "output_type": "display_data"
    },
    {
     "name": "stdout",
     "output_type": "stream",
     "text": [
      "decoded_preds[0]: Once<<<Once<<<<<<<<<<<<UnderUnderAuthorUnderUnderUnderUnderUnderUnderUnderUnderUnderUnderUnderUnderUnderUnderUnderUnderUnderUnderUnderUnderUnderUnderUnderUnderUnderUnderUnderUnderUnderUnderUnderUnderUnderUnderUnderUnderUnderUnderUnderUnderUnderUnderUnderUnderUnderUnderUnderUnderUnderUnderUnderUnderUnderUnderUnderUnderUnderUnderUnderUnderUnderUnderUnderUnderUnderUnderUnderUnderUnderUnderUnderUnderUnderUnderUnderUnderUnderUnderUnderUnderUnderUnderUnderUnderUnderUnderUnderUnderUnderUnderUnderUnderUnderUnderUnderUnderUnderUnderUnderUnderUnderUnderUnderUnder<UnderUnderUnderUnderUnderUnderUnderUnderUnderUnderUnder<UnderUnderUnderUnderUnder<UnderUnderUnder<Under<UnderUnderAuthorUnderUnderUnderAuthorUnderUnder<<UnderUnder<UnderUnder<<<<<<Under<Under<<<<<<<Under<<Under<<<UnderUnderUnderUnderAuthorUnder<<<<UnderUnderAuthor<<Under<<Under<UnderUnderUnderUnderUnderUnderUnderAndroid<<UnderAuthorAuthorAuthor<UnderUnderUnder<<UnderUnderAuthorUnderUnderUnderUnderUnderUnderUnderUnderUnderUnderUnderUnder<UnderUnderAuthorUnderUnderUnderUnderUnderUnderUnderUnderUnderUnderAuthorAuthor<AuthorAuthor sacked sackedAuthorUnderUnderAuthorUnderUnderUnderUnderAuthor<AuthorAuthorAuthorAuthorAuthorAuthorUnderUnderAuthorAuthorAuthorAuthorAuthorAuthorAuthorAuthorAuthorAuthorAuthorCommentsAuthorAuthorAuthorUnderAuthorAuthorAuthorUnderUnderUnderAuthorAuthorAuthorUnderAuthorUnderAuthorAuthorAuthorAuthorAuthorAuthorAuthorAuthorAuthorAuthorCommentsCommentsAuthorAuthorCommentsCommentsAuthor<AuthorAuthorUnderCommentsUnderAuthorUnderUnderAuthorAuthorAuthor<< sackedCommentsAuthorAuthorAuthorAuthorAuthor AUTHORS<AuthorAuthorAuthorAuthorAuthorAndroidAuthorAuthorAuthorUnderAuthorAuthorAuthorAuthorAuthorAuthorAuthor<<<AuthorAuthorAuthor<<<AuthorAuthor<<<Author<<<Author<<<<AuthorAuthor<<Author<<<Author<<<AuthorAuthor<<<<<<<<<AuthorAuthor<<<<<<<<Author<<<<<<<<<AuthorAuthor<<<<Author<<Author<<<<<<<<<<<<<<<<<<<<<<<<<<<<<<<<<<<<<<<<<<<<<<<<<<<<<<<<<<<<<<<<<<<<<<<<<<<<<<<<<<<<<<<<<<<<<<<<<Under<<<<<<<<<<<< sacked sacked< sacked<<<<< sacked<<< sacked<<<<<<<<Under<<<<< sacked sacked<<<<<<<<<<<<<<<<<<<<<<<<<<<<<<<<<<<<<<<<<<<<<<<<<<<<<<<<<<<<<<<<<<<<<<<<<<<<<<<<<<<<<<<<<<<<<<<<<<<<<<<<<<<<<<<<<<<<<<<<<<<<<<<<<<<<<<<<<<<<<<<<<<<<<<<<<<<<<<<<<<<<<<<<<<<<<<<<<<<<<<<<<<<<<<<<<<<<<<<<<<<<<<<<<<<<<<<<<<<<<<<<<<<<<<<<<<<<<<<<<<<<<<<<<<<<<<<<<<<<<<<<<<<<<<<<<<<<<<<<<<<<<<<<<<<<<<<<<<<<<<<<<<<<<<<<<<<<<<<<<<<<<<<<<<<<<<<<<<<<<<<<<<<<<<<<<|user|>\n",
      "يجب العديد من الأاليب التي تطلبى حدراسة الت لوف م مة من شخصطرف الآخر، العلاقات،رمة،  أناء علاقةقة والواصل بين العلاقات إذا خلال تحدث عنماع إلىتحدث فيتبادلترام الآكاره..اق تروج للعا فيمتاع ببعبة بعضكما البعض.  كنتاولتعك أنخبار بك ليس أمرريقة الوحيدة ل ت أن مقرب،، ف يين إلى توقفير في إذا كان هذه هي س التي تريدينك.ا.  المهمتع أن تشعرب في شريكك فيكونين بعملات م الجنسنسية، قد هذاعب علىسي العبية أوريلة جائعة لخ النفسريكك وواصليف الضوترك. أنة لمارسة الجنس. يمكنكحرص في علىجانبه شكما البعض ومجد إلى أكسائد أوقمق و بعضصة أو إذا أيضا أيضا أن متب التيطبعوب على إذاساعد هذادركنسسكما على نوعجة التاحةتكما إذا إذا كنت تادبي بشأن قج العلاقةور، فحاولولي أن تجلسقيدي عنليلا عن إذامالوس بعالا ب الأرضاكة و تقلسكدميكما.. إذاما أنضاءة كتاب الكصص الممانسية أوكيضكما البعض أجل تجت اانتباه عنا عن الجنس.مثلغمما تتب تشعرمن بعض بعض بعض رغك الصةص). إذاجلسا بعا علىنا ل بعضصوما يمكنكجلسا عن أات جغنية التيحاولعلسي معلغ من شريكك.اني بمشاهدةكلوكما. يمكنك ا تقملي ج من ذلكاههة الأ كلمك.. ترفانككما البعض إذاجلسسب بعضراحةلاعات الرأي بينبعضكما البعض و اكتبي بعضعضا من.عاقا. أجل.أدثي عن الأاستاليلة حولفتعة للاريكك\"). اكتبا م ط واحد معااطلين وانستان جانبكما علىصابة على الأطك.احول. و احدثتعلي الأمات.فرد أنانتهاء.كية الأود. ااري م الأاحبات المفيفة ومشع من الطعامصفائد.لا الفلم أو. ا كنت تلقة بشأن التملكرم إلى جلسة جميمةية، فع فيسائد علىكما ش ومما أاقات ل الأتين. يمكنك كنت تكندي هذهسائد جبطانيات جقيفاما، ف تأس. تحبال شريكك عن ما يرغبوي أن ذلك ما.خدمعي ذلكاومةته. إذاي بعضكان الذي تكونين فيه. مكانمام م يمكنكنتي بعض الأشيواء والكمانيات والحقة ل اجلسان م مكان المماابدي علىلمما. اجلسئ في الأصص. إذا ت هذالوسكماقرب من شريكك إلى تعوبة في التاومة الج العلاقة.ي من مجرد جرضانه إذا كنتاجت أنك تشعررين في أنجوز هذاودك،،عتدة،هماقا، فجلسقيدي ق ذلكريكك و انتفي بعضلوس م مكان آخر. إذا إذا كنت تلقة بشأن تجة لل شريكك،جعدادك عنه، فمكنكمافكع بقولتك في أناح إلى نحو المثال إلىوضعث أن \" \"أري معذيمني أن أنلوس م\". فعنا نذهب في طرضكة في\". أو \"أعر بالحض التيق عند أ أ بعضراحة فينجلس لطب\". إذا تساعدك ذلكروج م مكانريكن الأخرى على تسر الغبكماية. إذا كنتحدثت العلاقةكما رور التيدرجة حدث للمرت بالض،يال ذلك، ف تأس من التحدث عنتج \"كما ترغبرين بالراحة في هذهمتار في إذا أن تشعرترم شريكك كلغبك الجنس الإ. إذا إذا كنتاولتريكك إخاعك بالضرورة حددود، تضعتها، واضحعمر، ف تين إلى التوقفير في مابدار العلاقةلاقتكماه. إذا سبيل من أن لا الممكن أن تحألك شريكك عن رغيه في أو، الأين والآخر، إلا أن من يجب أن تصبحك بالقلق حهدرك. إذا\n",
      "<|assistant|>\n",
      "ي العلاقات السليمة، يمكن بناء الثقة والتقارب من خلال التحدث والاستماع والمشاركة واحترام أفكاركما. إذا أن الأشاطات غير جنسية مثل اللعب وألعاب لوحية و القراءة لث. است الاست الاستضاء استطلاعات رأي ل اابدة فيلم ل شسائد.ضواء. إذا كانعرت بالقلق، يمكنكبحثتعدي عنليلاً ابي استلا ما مااح الكان. إذا أن يحترم شريكك رغباتك وينعرك بالراحة.⽗\n",
      "<\n",
      "decoded_refs[0]: !!!!!!!!!!!!!!!!!!!!!!!!!!!!!!!!!!!!!!!!!!!!!!!!!!!!!!!!!!!!!!!!!!!!!!!!!!!!!!!!!!!!!!!!!!!!!!!!!!!!!!!!!!!!!!!!!!!!!!!!!!!!!!!!!!!!!!!!!!!!!!!!!!!!!!!!!!!!!!!!!!!!!!!!!!!!!!!!!!!!!!!!!!!!!!!!!!!!!!!!!!!!!!!!!!!!!!!!!!!!!!!!!!!!!!!!!!!!!!!!!!!!!!!!!!!!!!!!!!!!!!!!!!!!!!!!!!!!!!!!!!!!!!!!!!!!!!!!!!!!!!!!!!!!!!!!!!!!!!!!!!!!!!!!!!!!!!!!!!!!!!!!!!!!!!!!!!!!!!!!!!!!!!!!!!!!!!!!!!!!!!!!!!!!!!!!!!!!!!!!!!!!!!!!!!!!!!!!!!!!!!!!!!!!!!!!!!!!!!!!!!!!!!!!!!!!!!!!!!!!!!!!!!!!!!!!!!!!!!!!!!!!!!!!!!!!!!!!!!!!!!!!!!!!!!!!!!!!!!!!!!!!!!!!!!!!!!!!!!!!!!!!!!!!!!!!!!!!!!!!!!!!!!!!!!!!!!!!!!!!!!!!!!!!!!!!!!!!!!!!!!!!!!!!!!!!!!!!!!!!!!!!!!!!!!!!!!!!!!!!!!!!!!!!!!!!!!!!!!!!!!!!!!!!!!!!!!!!!!!!!!!!!!!!!!!!!!!!!!!!!!!!!!!!!!!!!!!!!!!!!!!!!!!!!!!!!!!!!!!!!!!!!!!!!!!!!!!!!!!!!!!!!!!!!!!!!!!!!!!!!!!!!!!!!!!!!!!!!!!!!!!!!!!!!!!!!!!!!!!!!!!!!!!!!!!!!!!!!!!!!!!!!!!!!!!!!!!!!!!!!!!!!!!!!!!!!!!!!!!!!!!!!!!!!!!!!!!!!!!!!!!!!!!!!!!!!!!!!!!!!!!!!!!!!!!!!!!!<|user|>\n",
      "يوجد الكثير من الأساليب التي تتعدى ممارسة الجنس لتكوني قريبة من الطرف الآخر في العلاقات السليمة. يمكنك بناء الثقة والتقارب في العلاقة من خلال التحدث والاستماع والمشاركة واحترام أفكاركما ومن خلال الخروج معا والاستمتاع بصحبة بعضكما البعض. إذا حاول شريكك إخبارك بأن الجنس هو الطريقة الوحيدة التي يمكنكما التقارب بها، فقد تحتاجين إلى التفكير فيما إذا كانت هذه العلاقة هي ما تريدينه حقا. من الممتع أن تجلسي مع شريكك وتقوما بنشاطات غير جنسية. يعد اللعب بألعاب لوحية وسيلة رائعة لإراحة شريكك وتخفيف توتره دون الحاجة لممارسة الجنس. اجلسا بجانب بعضكما البعض واستندا على بعض الوسائد وتناوبا على القراءة. يمكنكما حتى اختيار الكتب بالتناوب. يعتمد قرب جلوسكما على درجة راحتك.  إذا كنت قلقة بشأن تطور الأمور، فحاولي أن تبتعدي قليلا. يمكنك الجلوس مثلا على طرف مقابل له مع تلامس قدميكما فقط. يمكنكما قراءة بعض القصص الرومانسية لبعضكما من أجل تشتيت الانتباه بعيدا عن الجنس (وربما كي تضحكا على مدى رداءة القصص). اجلسا معا واستمعا إلى ألبوم. ابحثي عن كلمات الأغاني واجلسي بالقرب من شريكك وتمتعي بقرب جسدكما. ولكن لا تفعلا أكثر من مشابكة أياديكما أو احتضان بعضكما. اكتبا استطلاعات رأي لبعضكما البعض أو اطبعا بعضا منها مسبقا من الإنترنت (ابحثا عن \"أسئلة ممتعة لشريكك\"). اجلسا على جانبين متقابلين وليجب كل منكما بالإجابة على استبيانه وحده، ثم تبادلا الاستبيانين بمجرد الانتهاء لقراءة الردود. حضرا بعض الوجبات الخفيفة والكثير من الوسائد لمشاهدة فيلم ما. إذا كنت قلقة من تحول الفيلم إلى جلسة حميمية، ضعي الوسائد بينك وبينه واستخدما بطانيتين منفصلتين. إذا لم تؤدي الوسائد والبطانيتين وظيفتهما، فلا بأس من سؤال شريكك إذا كان ينوي فعل شيء آخر يستدعي مقاومتك. حولي المكان الذي ستجلسان فيه إلى حصن. أضيفي بعض الأضواء والبطانيات الأنيقة ثم اجلسا في داخله وشاهدا فيلما أو اقرآ بعض القصص. قد يؤدي جلوسك بالقرب من شريكك إلى صعوبة في مقاومة تطور الأمر لأكثر من مجرد احتضان. إذا وجدت نفسك تفكرين في تجاوز حدودكما المحددة مسبقا، ابتعدي عن شريكك أو اقترحي الجلوس في مكان آخر.  إذا كنت قلقة من الإساءة إلى شريكك بابتعادك عنه، فيمكنك التذرع لرغبتك في الانتقال على سبيل المثال بحجة مثل: \"ظهري يؤلمني من الجلوس هنا، دعنا نجلس على أريكة أخرى\" أو \"أشعر ببعض الضيق، لنأخذ استراحة ونذهب للمشي!\" سوف يساعدك الخروج إلى الأماكن العامة على كبح رغباتك الجنسية. إذا تطورت بينكما الأمور لوضع مثير وشعرت بالسوء حيال الأمر، لا بأس في التوقف وقول إنك لا تشعرين بالراحة في الاستمرار. يجب أن يحترم شريكك رغباتك على الفور.  إذا حاول شريكك إقناعك بتجاوز الحدود التي وضعتها بشكل متكرر، فقد تحتاجين إلى التفكير في استمرار علاقتك معه. على الرغم من أنه من المقبول أن يسألك شريكك عن رأيك مرة أخرى بين الحين والآخر، إلا أنه لا ينبغي أن يشعرك بالسوء نحو قرارك.⽗\n",
      "<|assistant|>\n",
      "في العلاقات السليمة، يمكنك بناء الثقة والتقارب من خلال التحدث والاستماع والمشاركة واحترام أفكاركما. يمكن استخدام نشاطات غير جنسية مثل اللعب بألعاب لوحية أو القراءة معا. يمكنك أيضا إجراء استطلاعات رأي أو مشاهدة فيلم مع وسائد وأضواء. إذا شعرت بالقلق، ابتعدي قليلا أو تقدمي لسببًا لنقل المكان. يجب أن يحترم شريكك رغباتك ويشعرك بالراحة.⽗\n",
      "\n"
     ]
    },
    {
     "name": "stderr",
     "output_type": "stream",
     "text": [
      "\u001b[34m\u001b[1mwandb\u001b[0m: \u001b[33mWARNING\u001b[0m The `run_name` is currently set to the same value as `TrainingArguments.output_dir`. If this was not intended, please specify a different run name by setting the `TrainingArguments.run_name` parameter.\n",
      "\u001b[34m\u001b[1mwandb\u001b[0m: Currently logged in as: \u001b[33mabdelazizbounhar\u001b[0m. Use \u001b[1m`wandb login --relogin`\u001b[0m to force relogin\n",
      "\u001b[34m\u001b[1mwandb\u001b[0m: Using wandb-core as the SDK backend.  Please refer to https://wandb.me/wandb-core for more information.\n"
     ]
    },
    {
     "data": {
      "text/html": [
       "Tracking run with wandb version 0.19.3"
      ],
      "text/plain": [
       "<IPython.core.display.HTML object>"
      ]
     },
     "metadata": {},
     "output_type": "display_data"
    },
    {
     "data": {
      "text/html": [
       "Run data is saved locally in <code>/home/infres/abounhar/mbzuai/evaluation/wandb/run-20250127_230320-181lvszk</code>"
      ],
      "text/plain": [
       "<IPython.core.display.HTML object>"
      ]
     },
     "metadata": {},
     "output_type": "display_data"
    },
    {
     "data": {
      "text/html": [
       "Syncing run <strong><a href='https://wandb.ai/abdelazizbounhar/huggingface/runs/181lvszk' target=\"_blank\">./o</a></strong> to <a href='https://wandb.ai/abdelazizbounhar/huggingface' target=\"_blank\">Weights & Biases</a> (<a href='https://wandb.me/developer-guide' target=\"_blank\">docs</a>)<br>"
      ],
      "text/plain": [
       "<IPython.core.display.HTML object>"
      ]
     },
     "metadata": {},
     "output_type": "display_data"
    },
    {
     "data": {
      "text/html": [
       " View project at <a href='https://wandb.ai/abdelazizbounhar/huggingface' target=\"_blank\">https://wandb.ai/abdelazizbounhar/huggingface</a>"
      ],
      "text/plain": [
       "<IPython.core.display.HTML object>"
      ]
     },
     "metadata": {},
     "output_type": "display_data"
    },
    {
     "data": {
      "text/html": [
       " View run at <a href='https://wandb.ai/abdelazizbounhar/huggingface/runs/181lvszk' target=\"_blank\">https://wandb.ai/abdelazizbounhar/huggingface/runs/181lvszk</a>"
      ],
      "text/plain": [
       "<IPython.core.display.HTML object>"
      ]
     },
     "metadata": {},
     "output_type": "display_data"
    },
    {
     "name": "stdout",
     "output_type": "stream",
     "text": [
      "[INFO] Results on test set: {'eval_loss': 2.425283432006836, 'eval_model_preparation_time': 0.0047, 'eval_rouge1': 38.30986197413715, 'eval_rouge2': 17.798467716475482, 'eval_rougeL': 37.15017882326543, 'eval_rougeLsum': 37.75851161995967, 'eval_bleu': 3.9503918932153574, 'eval_runtime': 41.1489, 'eval_samples_per_second': 10.62, 'eval_steps_per_second': 1.337}\n"
     ]
    }
   ],
   "source": [
    "# Evaluate on test set\n",
    "test_results = trainer.evaluate(eval_dataset)\n",
    "print(f'[INFO] Results on test set: {test_results}')"
   ]
  },
  {
   "cell_type": "code",
   "execution_count": 7,
   "metadata": {},
   "outputs": [
    {
     "data": {
      "text/html": [
       "\n",
       "    <div>\n",
       "      \n",
       "      <progress value='55' max='55' style='width:300px; height:20px; vertical-align: middle;'></progress>\n",
       "      [55/55 01:09]\n",
       "    </div>\n",
       "    "
      ],
      "text/plain": [
       "<IPython.core.display.HTML object>"
      ]
     },
     "metadata": {},
     "output_type": "display_data"
    },
    {
     "name": "stdout",
     "output_type": "stream",
     "text": [
      "decoded_preds[0]: |user|>\n",
      "يجب العديد من الأاليب التي تطلبى حدحدودسة الت لوف م مة من شخصطرف الآخر، العلاقات،رمة،  أناء علاقةقة والواصل بين العلاقات إذا خلال تحدث معماع إلىتحدث فيتبادلترام الآكاره..اق تروج للعا فيمتاع ببعبة بعضكما البعض.  كنتاولتعك أنظهبار بك ليس أمرريقة الوحيدة ل ت أن مقرب،، ف يين إلى توقفير في إذا كان هذه هي س التي تريدينك.ا.  المهمتع أن تشعرب لل شريكك فيكونين بعملات مختلفة الجنسنسية، يمكنك هذاعب علىسي العبية أوريلة جائعة لظه النفسريكك وخفيف الضوترك. أنة لمارسة الجنس. يمكنكحرص في علىجانبه شكما البعض ومجد إلى أكسائد أوقمق و بعضفةة أو إذا أيضا أيضا أن متب التيطبعوب على إذاساعد هذادركنسسكما على نوعجة التاحةتكما إذا إذا كنت تادبي أو قج العلاقةور، فحاولولي أن تجلسقيدي عنليلا عن إذامالوس بعالا ب الأرضاكة و تقلسكدميكما.. إذا أيضا أنضاءة كتاب الكصص الممانسية أوكيضكما البعض أجل تجت اانتباه عنا عن الجنس.مثلغمما تتب تشعرمن بعض بعض بعض رغك الصةص). إذاجلسا بعا علىنا ل بعضصوما يمكنكجلسا عن أات جغنية التيحاولعلسي معلغ من شريكك.اني بمشاهدةكلوكما. يمكنك ا تقملي عن من ذلكاههة الأ كلمك.. ترفانككما البعض إذاجلسسب بعضراحةلاعات الرأي وبعضكما البعض و اكتبي بعضعضا من وعاقا. أجل.أدثي عن الأاستاليلة حولفتعة للاريكك\"). ابدأا م ط واحد معااطلين وانستان جانبكما علىصابة على الأطك.احول. و احدثاعلي الأمات.فرد أنانتهاء.كية الأود. اري م الأاحبات المفيفة.مشع من الطعامصفائد.لا الفلم أو. ا كنت تلقة بشأن التملكرم إلى جلسة جميمةية، فع فيسائد علىكما ش ومما أاقات ل الأتين. يمكنك كنت تكندي هذهسائد جبطانيات جقيفتكما، ف تأس. تحبال شريكك عن ما يرغبوي أن ذلك ما.خدمعي ذلكاومةته. إذاي بعضكان الذي تكونين فيه. مكانمام م يمكنكنتي بعض الأشيواء والكمانيات والحقة ل اجلسان م مكان المماابدي علىلمما. اجلسئ في الأصص. إذا ت ذلكلوسكماقرب من شريكك إلى تعوبة في التاومة الج العلاقة.ي من مجرد جرضانه إذا كنتاجت أنك تشعررين في أنجوز هذاودك،،عتدة،هماقا، فبدأقيدي ق ذلكريكك و انتفي بعضلوس م مكان آخر. إذا إذا كنت تلقة بشأن تجة لل شريكك،جتعادك عنه، فمكنكمافكع بقولتك في أناح إلى نحو المثال إلىوضعث أن \" \"أري معذيمني أن أنلوس م\". فعنا نذهب في طرضكة في\". أو \"أعر بالحض التيق عند أ أ بعضراحة فينجلس إلىطب\". إذا يساعدك ذلكروج م مكانريكن الأخرى على تسر الغبكماية. إذا كنتحدثت العلاقةكما رور التيدرجة حدث للمرت بالض،يال ذلك، ف تأس من التحدث عنتج \"ك لا ترغبرين بالراحة في هذهمتار في إذا أن تشعرترم شريكك كلغبك الجنس الإ. إذا إذا كنتاولتريكك إخاعك بالضرورة حددود، تضعتها، واضحعمر، ف تين إلى التفكير في مابدار العلاقةلاقتكماه. إذا سبيل من أن لا الممكن أن تحألك شريكك عن رغيه في أو، الأين والآخر، إلا أن من يجب أن تحاولك بالقلق حهدرك. إذا\n",
      "<|assistant|>\n",
      "ي العلاقات السليمة، يمكن بناء الثقة والتقارب من خلال التحدث والاستماع والمشاركة واحترام أفكاركما. إذا أن الأشاطات غير جنسية مثل اللعب وألعاب لوحية و القراءة لث. است الاست الاستضاء استطلاعات رأي ل مشابدة فيلم ل شسائد.ضواء. إذا كنتعرت بالقلق، يمكنكبحثتعدي عنليلاً ابي استلا ما مااح الكان. إذا أن يحترم شريكك رغباتك وينعرك بالراحة.⽗\n",
      "<HumanHumanHumanHumanHumanHumanHumanHumanHumanHumanHumanHumanHumanHumanHumanHumanHumanHumanHumanHuman#HumanHumanHumanHumanHumanHumanHumanHumanHumanHumanHumanHumanHumanHumanHumanHumanHumanHumanHumanHumanHumanHumanHumanHumanHumanHumanHumanHumanHumanHumanHumanHumanHumanHumanHumanHumanHumanHumanHumanHumanHumanHumanHumanHumanHumanHumanHumanHumanHumanHumanHumanHumanHumanHumanHumanHumanHumanHumanHumanHumanHumanHumanHumanHumanHumanHumanHumanHumanHumanHumanHumanHumanHumanHumanHumanHumanHumanHumanHumanHumanHumanHumanHumanHumanHumanHumanHumanHumanHumanHumanHumanHumanHumanHumanHumanHumanHumanHumanHumanHumanHumanHumanHumanHumanHumanHumanHumanHumanHumanHumanHumanHumanHumanHumanHumanHumanHumanHumanHumanHumanHumanHumanHumanHumanHumanHumanHumanHumanHumanHumanHumanHumanHumanHumanHumanHumanAHumanHumanHumanHumanHumanHumanHumanHumanHumanHumanHumanHumanHumanHumanHumanHumanHumanHumanHumanHumanHumanHumanHumanHumanHumanHumanHumanHumanHumanHumanHumanHumanHumanHumanHumanHumanHumanHumanHumanHumanHumanHumanHumanHumanHumanHumanHumanHumanHumanHumanHumanHumanHumanHumanHumanHumanHumanHumanHumanHumanHumanHumanHumanHumanHumanHumanHumanPleaseAHumanHumanHumanHumanHuman1HumanHumanHumanHumanHumanHumanHumanHumanHumanHumanHumanHumanHumanHumanHumanHumanHumanHumanHumanHumanHumanHumanHumanHumanHumanHumanHumanHumanHumanHuman<Human<HumanHumanHumanHumanHumanHumanHumanHumanHumanHumanHumanHumanHumanHumanHuman<<<HumanHumanHumanHumanHumanHumanHumanHumanHumanHumanHumanHumanHumanHumanHumanHuman#AHumanHumanHumanHumanHumanHumanHumanHumanHumanHumanHumanHumanHumanHumanHumanHumanHumanHumanHumanHumanHumanHumanHumanHumanHumanHumanHumanHumanHumanHumanAAHumanHumanHumanHumanHumanHumanHumanHumanHumanHumanHumanHumanHumanHumanHumanHumanHumanHumanHumanHumanHumanHumanHumanHumanHumanHumanHumanHumanHumanHumanHumanHumanHumanHumanHumanHumanHumanHumanHumanHumanHumanHumanHumanHumanHumanHumanHumanHumanHumanHumanHumanHumanHumanHumanHumanHumanHumanHumanHumanHumanHumanHumanHumanHumanHumanHumanHumanHuman<HumanHumanHumanHumanHumanAHumanHumanHumanHumanHumanHumanHumanHumanHumanHumanHumanHumanHumanHumanHumanHumanHumanHumanHumanHumanHumanHumanHumanHumanHumanHumanHumanHumanHumanHumanHumanHumanHumanHumanHumanHumanHuman#HumanHumanHumanHumanHumanHumanHumanHumanHumanHumanHumanHumanHumanHumanHuman#<<<HumanHumanHumanHuman<<HumanHumanHumanHumanHumanHumanHumanHumanHumanHumanHumanHumanHumanHumanHumanHumanHumanHumanHumanHumanHumanHumanHumanHumanHumanHumanHumanHumanHumanHumanHumanHumanHumanHumanHumanHumanHuman#HumanHumanHumanHumanHumanAHumanHumanHumanHumanHumanHumanHumanHumanHumanHumanHumanHumanHumanHumanHumanHumanHumanHumanHumanHumanHumanHumanHumanHumanHumanHumanHumanHumanHumanHumanAHumanHumanHumanHumanHumanHumanHumanHumanHumanHumanHumanHumanHumanHumanHumanHumanHumanHumanHumanHumanHumanHumanHumanHumanHumanHumanHumanHumanHumanHumanHumanHumanHumanHumanHumanHumanHumanHumanHumanHumanHumanHumanHumanHumanHumanHumanHumanHumanHumanHumanHumanHumanHumanHumanHumanHumanHumanHumanHumanHumanHumanHumanHumanHumanHumanHumanHumanHumanHumanAHumanHuman#Human##HumanHumanHumanHumanHumanHumanHumanHumanHumanHumanHumanHumanHumanHumanHumanHumanHumanHumanHumanHumanHumanHumanHumanHumanHumanHumanHumanHumanHumanHumanHumanHumanHumanHumanHumanHumanHumanHumanHumanHumanHumanHumanHumanHumanHumanHumanHumanHumanHumanHumanHumanHumanHumanHumanHumanHumanHumanHumanHumanHumanHumanHumanHumanHumanHumanHumanHumanHumanHumanHumanHumanHumanHumanHumanHumanHumanHumanHumanHumanHumanHumanHumanHumanHumanHumanHumanHumanHumanHumanHumanHumanHumanHumanHumanHumanHumanHumanAAAAAHumanHumanHumanHumanHumanHumanHumanHumanHumanHumanHumanHumanHumanHumanHumanHumanHumanHumanHumanHumanHumanHumanHumanHumanHumanHumanHumanHumanHumanHumanHumanHumanHumanHumanHumanAHumanHumanHumanHumanHumanHumanHumanHumanHumanHumanHumanHumanHumanHumanHumanHumanHumanCreateHumanHumanHumanHuman<HumanHumanHumanHumanHumanHumanHumanAAAHumanHumanAAAHumanHumanHumanHumanHumanHumanHumanHumanWriteHumanHumanHumanHumanHumanHumanHumanHumanHumanHumanHumanHumanHumanHumanHumanHumanHumanHumanHuman<AAHumanHumanHumanHumanHuman<<HumanHumanHumanHumanHumanHumanHumanHumanHumanHumanHumanHumanHumanHumanHumanHumanHumanHumanHumanHumanHumanHumanHumanHuman#HumanHumanHumanHumanHumanAHumanHumanHumanHumanHumanHumanHumanHumanHumanHumanHumanCreateHumanHumanHumanHumanHumanHumanHumanHumanHumanHumanHumanHumanHumanHumanHumanHumanHumanHumanAHumanHuman<HumanHuman1<HumanHumanHumanHumanHumanHumanHumanHumanHumanHumanHumanHumanHumanHumanHumanHumanHumanHumanHumanHuman#HumanHuman<A#HumanHumanHuman<\n",
      "decoded_refs[0]: <|user|>\n",
      "يوجد الكثير من الأساليب التي تتعدى ممارسة الجنس لتكوني قريبة من الطرف الآخر في العلاقات السليمة. يمكنك بناء الثقة والتقارب في العلاقة من خلال التحدث والاستماع والمشاركة واحترام أفكاركما ومن خلال الخروج معا والاستمتاع بصحبة بعضكما البعض. إذا حاول شريكك إخبارك بأن الجنس هو الطريقة الوحيدة التي يمكنكما التقارب بها، فقد تحتاجين إلى التفكير فيما إذا كانت هذه العلاقة هي ما تريدينه حقا. من الممتع أن تجلسي مع شريكك وتقوما بنشاطات غير جنسية. يعد اللعب بألعاب لوحية وسيلة رائعة لإراحة شريكك وتخفيف توتره دون الحاجة لممارسة الجنس. اجلسا بجانب بعضكما البعض واستندا على بعض الوسائد وتناوبا على القراءة. يمكنكما حتى اختيار الكتب بالتناوب. يعتمد قرب جلوسكما على درجة راحتك.  إذا كنت قلقة بشأن تطور الأمور، فحاولي أن تبتعدي قليلا. يمكنك الجلوس مثلا على طرف مقابل له مع تلامس قدميكما فقط. يمكنكما قراءة بعض القصص الرومانسية لبعضكما من أجل تشتيت الانتباه بعيدا عن الجنس (وربما كي تضحكا على مدى رداءة القصص). اجلسا معا واستمعا إلى ألبوم. ابحثي عن كلمات الأغاني واجلسي بالقرب من شريكك وتمتعي بقرب جسدكما. ولكن لا تفعلا أكثر من مشابكة أياديكما أو احتضان بعضكما. اكتبا استطلاعات رأي لبعضكما البعض أو اطبعا بعضا منها مسبقا من الإنترنت (ابحثا عن \"أسئلة ممتعة لشريكك\"). اجلسا على جانبين متقابلين وليجب كل منكما بالإجابة على استبيانه وحده، ثم تبادلا الاستبيانين بمجرد الانتهاء لقراءة الردود. حضرا بعض الوجبات الخفيفة والكثير من الوسائد لمشاهدة فيلم ما. إذا كنت قلقة من تحول الفيلم إلى جلسة حميمية، ضعي الوسائد بينك وبينه واستخدما بطانيتين منفصلتين. إذا لم تؤدي الوسائد والبطانيتين وظيفتهما، فلا بأس من سؤال شريكك إذا كان ينوي فعل شيء آخر يستدعي مقاومتك. حولي المكان الذي ستجلسان فيه إلى حصن. أضيفي بعض الأضواء والبطانيات الأنيقة ثم اجلسا في داخله وشاهدا فيلما أو اقرآ بعض القصص. قد يؤدي جلوسك بالقرب من شريكك إلى صعوبة في مقاومة تطور الأمر لأكثر من مجرد احتضان. إذا وجدت نفسك تفكرين في تجاوز حدودكما المحددة مسبقا، ابتعدي عن شريكك أو اقترحي الجلوس في مكان آخر.  إذا كنت قلقة من الإساءة إلى شريكك بابتعادك عنه، فيمكنك التذرع لرغبتك في الانتقال على سبيل المثال بحجة مثل: \"ظهري يؤلمني من الجلوس هنا، دعنا نجلس على أريكة أخرى\" أو \"أشعر ببعض الضيق، لنأخذ استراحة ونذهب للمشي!\" سوف يساعدك الخروج إلى الأماكن العامة على كبح رغباتك الجنسية. إذا تطورت بينكما الأمور لوضع مثير وشعرت بالسوء حيال الأمر، لا بأس في التوقف وقول إنك لا تشعرين بالراحة في الاستمرار. يجب أن يحترم شريكك رغباتك على الفور.  إذا حاول شريكك إقناعك بتجاوز الحدود التي وضعتها بشكل متكرر، فقد تحتاجين إلى التفكير في استمرار علاقتك معه. على الرغم من أنه من المقبول أن يسألك شريكك عن رأيك مرة أخرى بين الحين والآخر، إلا أنه لا ينبغي أن يشعرك بالسوء نحو قرارك.⽗\n",
      "<|assistant|>\n",
      "في العلاقات السليمة، يمكنك بناء الثقة والتقارب من خلال التحدث والاستماع والمشاركة واحترام أفكاركما. يمكن استخدام نشاطات غير جنسية مثل اللعب بألعاب لوحية أو القراءة معا. يمكنك أيضا إجراء استطلاعات رأي أو مشاهدة فيلم مع وسائد وأضواء. إذا شعرت بالقلق، ابتعدي قليلا أو تقدمي لسببًا لنقل المكان. يجب أن يحترم شريكك رغباتك ويشعرك بالراحة.⽗\n",
      "!!!!!!!!!!!!!!!!!!!!!!!!!!!!!!!!!!!!!!!!!!!!!!!!!!!!!!!!!!!!!!!!!!!!!!!!!!!!!!!!!!!!!!!!!!!!!!!!!!!!!!!!!!!!!!!!!!!!!!!!!!!!!!!!!!!!!!!!!!!!!!!!!!!!!!!!!!!!!!!!!!!!!!!!!!!!!!!!!!!!!!!!!!!!!!!!!!!!!!!!!!!!!!!!!!!!!!!!!!!!!!!!!!!!!!!!!!!!!!!!!!!!!!!!!!!!!!!!!!!!!!!!!!!!!!!!!!!!!!!!!!!!!!!!!!!!!!!!!!!!!!!!!!!!!!!!!!!!!!!!!!!!!!!!!!!!!!!!!!!!!!!!!!!!!!!!!!!!!!!!!!!!!!!!!!!!!!!!!!!!!!!!!!!!!!!!!!!!!!!!!!!!!!!!!!!!!!!!!!!!!!!!!!!!!!!!!!!!!!!!!!!!!!!!!!!!!!!!!!!!!!!!!!!!!!!!!!!!!!!!!!!!!!!!!!!!!!!!!!!!!!!!!!!!!!!!!!!!!!!!!!!!!!!!!!!!!!!!!!!!!!!!!!!!!!!!!!!!!!!!!!!!!!!!!!!!!!!!!!!!!!!!!!!!!!!!!!!!!!!!!!!!!!!!!!!!!!!!!!!!!!!!!!!!!!!!!!!!!!!!!!!!!!!!!!!!!!!!!!!!!!!!!!!!!!!!!!!!!!!!!!!!!!!!!!!!!!!!!!!!!!!!!!!!!!!!!!!!!!!!!!!!!!!!!!!!!!!!!!!!!!!!!!!!!!!!!!!!!!!!!!!!!!!!!!!!!!!!!!!!!!!!!!!!!!!!!!!!!!!!!!!!!!!!!!!!!!!!!!!!!!!!!!!!!!!!!!!!!!!!!!!!!!!!!!!!!!!!!!!!!!!!!!!!!!!!!!!!!!!!!!!!!!!!!!!!!!!!!!!!!!!!!!!!!!!!!!!!!!!!!!!!!!!!!!!!!!!!\n"
     ]
    },
    {
     "name": "stderr",
     "output_type": "stream",
     "text": [
      "\u001b[34m\u001b[1mwandb\u001b[0m: \u001b[33mWARNING\u001b[0m The `run_name` is currently set to the same value as `TrainingArguments.output_dir`. If this was not intended, please specify a different run name by setting the `TrainingArguments.run_name` parameter.\n",
      "\u001b[34m\u001b[1mwandb\u001b[0m: Currently logged in as: \u001b[33mabdelazizbounhar\u001b[0m. Use \u001b[1m`wandb login --relogin`\u001b[0m to force relogin\n",
      "\u001b[34m\u001b[1mwandb\u001b[0m: Using wandb-core as the SDK backend.  Please refer to https://wandb.me/wandb-core for more information.\n"
     ]
    },
    {
     "data": {
      "text/html": [
       "Tracking run with wandb version 0.19.3"
      ],
      "text/plain": [
       "<IPython.core.display.HTML object>"
      ]
     },
     "metadata": {},
     "output_type": "display_data"
    },
    {
     "data": {
      "text/html": [
       "Run data is saved locally in <code>/home/infres/abounhar/mbzuai/evaluation/wandb/run-20250127_213619-mnea6t72</code>"
      ],
      "text/plain": [
       "<IPython.core.display.HTML object>"
      ]
     },
     "metadata": {},
     "output_type": "display_data"
    },
    {
     "data": {
      "text/html": [
       "Syncing run <strong><a href='https://wandb.ai/abdelazizbounhar/huggingface/runs/mnea6t72' target=\"_blank\">./o</a></strong> to <a href='https://wandb.ai/abdelazizbounhar/huggingface' target=\"_blank\">Weights & Biases</a> (<a href='https://wandb.me/developer-guide' target=\"_blank\">docs</a>)<br>"
      ],
      "text/plain": [
       "<IPython.core.display.HTML object>"
      ]
     },
     "metadata": {},
     "output_type": "display_data"
    },
    {
     "data": {
      "text/html": [
       " View project at <a href='https://wandb.ai/abdelazizbounhar/huggingface' target=\"_blank\">https://wandb.ai/abdelazizbounhar/huggingface</a>"
      ],
      "text/plain": [
       "<IPython.core.display.HTML object>"
      ]
     },
     "metadata": {},
     "output_type": "display_data"
    },
    {
     "data": {
      "text/html": [
       " View run at <a href='https://wandb.ai/abdelazizbounhar/huggingface/runs/mnea6t72' target=\"_blank\">https://wandb.ai/abdelazizbounhar/huggingface/runs/mnea6t72</a>"
      ],
      "text/plain": [
       "<IPython.core.display.HTML object>"
      ]
     },
     "metadata": {},
     "output_type": "display_data"
    },
    {
     "name": "stdout",
     "output_type": "stream",
     "text": [
      "[INFO] Results on test set: {'eval_loss': 2.4264333248138428, 'eval_model_preparation_time': 0.0055, 'eval_rouge1': 26.59967449402053, 'eval_rouge2': 11.045408287198025, 'eval_rougeL': 25.71808991230977, 'eval_rougeLsum': 26.235493743069043, 'eval_bleu': 3.2501948192649843, 'eval_runtime': 86.764, 'eval_samples_per_second': 5.037, 'eval_steps_per_second': 0.634}\n"
     ]
    }
   ],
   "source": [
    "# Evaluate on test set\n",
    "test_results = trainer.evaluate(eval_dataset)\n",
    "print(f'[INFO] Results on test set: {test_results}')"
   ]
  }
 ],
 "metadata": {
  "kernelspec": {
   "display_name": "Python 3",
   "language": "python",
   "name": "python3"
  },
  "language_info": {
   "codemirror_mode": {
    "name": "ipython",
    "version": 3
   },
   "file_extension": ".py",
   "mimetype": "text/x-python",
   "name": "python",
   "nbconvert_exporter": "python",
   "pygments_lexer": "ipython3",
   "version": "3.12.3"
  }
 },
 "nbformat": 4,
 "nbformat_minor": 2
}
